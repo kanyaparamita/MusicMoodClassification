{
 "cells": [
  {
   "cell_type": "code",
   "execution_count": 1,
   "metadata": {},
   "outputs": [
    {
     "name": "stdout",
     "output_type": "stream",
     "text": [
      "Requirement already satisfied: spacy==2.3.0 in /usr/local/lib/python3.7/site-packages (from -r requirements.txt (line 1)) (2.3.0)\n",
      "Requirement already satisfied: scipy==1.4.1 in /usr/local/lib/python3.7/site-packages (from -r requirements.txt (line 2)) (1.4.1)\n",
      "Requirement already satisfied: pandas==1.0.5 in /usr/local/lib/python3.7/site-packages (from -r requirements.txt (line 3)) (1.0.5)\n",
      "Requirement already satisfied: numpy==1.18.5 in /usr/local/lib/python3.7/site-packages (from -r requirements.txt (line 4)) (1.18.5)\n",
      "Requirement already satisfied: matplotlib==3.2.2 in /usr/local/lib/python3.7/site-packages (from -r requirements.txt (line 5)) (3.2.2)\n",
      "Requirement already satisfied: scikit-learn==0.23.1 in /usr/local/lib/python3.7/site-packages (from -r requirements.txt (line 6)) (0.23.1)\n",
      "Requirement already satisfied: seaborn==0.10.1 in /usr/local/lib/python3.7/site-packages (from -r requirements.txt (line 7)) (0.10.1)\n",
      "Requirement already satisfied: xgboost==1.0.0 in /usr/local/lib/python3.7/site-packages (from -r requirements.txt (line 8)) (1.0.0)\n",
      "Requirement already satisfied: preshed<3.1.0,>=3.0.2 in /Users/sukhleenkaur/Library/Python/3.7/lib/python/site-packages (from spacy==2.3.0->-r requirements.txt (line 1)) (3.0.2)\n",
      "Requirement already satisfied: wasabi<1.1.0,>=0.4.0 in /usr/local/lib/python3.7/site-packages (from spacy==2.3.0->-r requirements.txt (line 1)) (0.6.0)\n",
      "Requirement already satisfied: tqdm<5.0.0,>=4.38.0 in /usr/local/lib/python3.7/site-packages (from spacy==2.3.0->-r requirements.txt (line 1)) (4.46.1)\n",
      "Requirement already satisfied: requests<3.0.0,>=2.13.0 in /Users/sukhleenkaur/Library/Python/3.7/lib/python/site-packages (from spacy==2.3.0->-r requirements.txt (line 1)) (2.22.0)\n",
      "Requirement already satisfied: thinc==7.4.1 in /usr/local/lib/python3.7/site-packages (from spacy==2.3.0->-r requirements.txt (line 1)) (7.4.1)\n",
      "Requirement already satisfied: setuptools in /usr/local/lib/python3.7/site-packages (from spacy==2.3.0->-r requirements.txt (line 1)) (46.0.0)\n",
      "Requirement already satisfied: blis<0.5.0,>=0.4.0 in /Users/sukhleenkaur/Library/Python/3.7/lib/python/site-packages (from spacy==2.3.0->-r requirements.txt (line 1)) (0.4.1)\n",
      "Requirement already satisfied: plac<1.2.0,>=0.9.6 in /usr/local/lib/python3.7/site-packages (from spacy==2.3.0->-r requirements.txt (line 1)) (0.9.6)\n",
      "Requirement already satisfied: srsly<1.1.0,>=1.0.2 in /usr/local/lib/python3.7/site-packages (from spacy==2.3.0->-r requirements.txt (line 1)) (1.0.2)\n",
      "Requirement already satisfied: cymem<2.1.0,>=2.0.2 in /usr/local/lib/python3.7/site-packages (from spacy==2.3.0->-r requirements.txt (line 1)) (2.0.2)\n",
      "Requirement already satisfied: catalogue<1.1.0,>=0.0.7 in /usr/local/lib/python3.7/site-packages (from spacy==2.3.0->-r requirements.txt (line 1)) (1.0.0)\n",
      "Requirement already satisfied: murmurhash<1.1.0,>=0.28.0 in /usr/local/lib/python3.7/site-packages (from spacy==2.3.0->-r requirements.txt (line 1)) (1.0.2)\n",
      "Requirement already satisfied: python-dateutil>=2.6.1 in /usr/local/lib/python3.7/site-packages (from pandas==1.0.5->-r requirements.txt (line 3)) (2.8.0)\n",
      "Requirement already satisfied: pytz>=2017.2 in /usr/local/lib/python3.7/site-packages (from pandas==1.0.5->-r requirements.txt (line 3)) (2018.9)\n",
      "Requirement already satisfied: pyparsing!=2.0.4,!=2.1.2,!=2.1.6,>=2.0.1 in /usr/local/lib/python3.7/site-packages (from matplotlib==3.2.2->-r requirements.txt (line 5)) (2.3.1)\n",
      "Requirement already satisfied: kiwisolver>=1.0.1 in /usr/local/lib/python3.7/site-packages (from matplotlib==3.2.2->-r requirements.txt (line 5)) (1.0.1)\n",
      "Requirement already satisfied: cycler>=0.10 in /usr/local/lib/python3.7/site-packages (from matplotlib==3.2.2->-r requirements.txt (line 5)) (0.10.0)\n",
      "Requirement already satisfied: joblib>=0.11 in /usr/local/lib/python3.7/site-packages (from scikit-learn==0.23.1->-r requirements.txt (line 6)) (0.14.1)\n",
      "Requirement already satisfied: threadpoolctl>=2.0.0 in /usr/local/lib/python3.7/site-packages (from scikit-learn==0.23.1->-r requirements.txt (line 6)) (2.1.0)\n",
      "Requirement already satisfied: chardet<3.1.0,>=3.0.2 in /Users/sukhleenkaur/Library/Python/3.7/lib/python/site-packages (from requests<3.0.0,>=2.13.0->spacy==2.3.0->-r requirements.txt (line 1)) (3.0.4)\n",
      "Requirement already satisfied: idna<2.9,>=2.5 in /Users/sukhleenkaur/Library/Python/3.7/lib/python/site-packages (from requests<3.0.0,>=2.13.0->spacy==2.3.0->-r requirements.txt (line 1)) (2.8)\n",
      "Requirement already satisfied: urllib3!=1.25.0,!=1.25.1,<1.26,>=1.21.1 in /Users/sukhleenkaur/Library/Python/3.7/lib/python/site-packages (from requests<3.0.0,>=2.13.0->spacy==2.3.0->-r requirements.txt (line 1)) (1.25.6)\n",
      "Requirement already satisfied: certifi>=2017.4.17 in /Users/sukhleenkaur/Library/Python/3.7/lib/python/site-packages (from requests<3.0.0,>=2.13.0->spacy==2.3.0->-r requirements.txt (line 1)) (2019.9.11)\n",
      "Requirement already satisfied: importlib-metadata>=0.20; python_version < \"3.8\" in /usr/local/lib/python3.7/site-packages (from catalogue<1.1.0,>=0.0.7->spacy==2.3.0->-r requirements.txt (line 1)) (1.6.0)\n",
      "Requirement already satisfied: six>=1.5 in /Users/sukhleenkaur/Library/Python/3.7/lib/python/site-packages (from python-dateutil>=2.6.1->pandas==1.0.5->-r requirements.txt (line 3)) (1.12.0)\n",
      "Requirement already satisfied: zipp>=0.5 in /usr/local/lib/python3.7/site-packages (from importlib-metadata>=0.20; python_version < \"3.8\"->catalogue<1.1.0,>=0.0.7->spacy==2.3.0->-r requirements.txt (line 1)) (3.1.0)\n"
     ]
    }
   ],
   "source": [
    "!pip3 install -r requirements.txt"
   ]
  },
  {
   "cell_type": "code",
   "execution_count": 2,
   "metadata": {},
   "outputs": [],
   "source": [
    "import warnings"
   ]
  },
  {
   "cell_type": "code",
   "execution_count": 3,
   "metadata": {
    "lines_to_next_cell": 2
   },
   "outputs": [],
   "source": [
    "import numpy as np\n",
    "import pandas as pd\n",
    "import seaborn as sns\n",
    "from matplotlib import pyplot as plt\n",
    "from sklearn.metrics import accuracy_score, confusion_matrix\n",
    "from sklearn.neighbors import KNeighborsClassifier\n",
    "from sklearn.preprocessing import LabelEncoder"
   ]
  },
  {
   "cell_type": "code",
   "execution_count": 4,
   "metadata": {},
   "outputs": [],
   "source": [
    "warnings.filterwarnings(\"ignore\")"
   ]
  },
  {
   "cell_type": "code",
   "execution_count": null,
   "metadata": {},
   "outputs": [],
   "source": [
    "\n"
   ]
  },
  {
   "cell_type": "markdown",
   "metadata": {},
   "source": [
    "### Pre-processing for BLF Features"
   ]
  },
  {
   "cell_type": "code",
   "execution_count": 5,
   "metadata": {},
   "outputs": [],
   "source": [
    "with open('./Features/blf_features.txt') as f:\n",
    "    lines = f.readlines()"
   ]
  },
  {
   "cell_type": "code",
   "execution_count": 6,
   "metadata": {
    "lines_to_next_cell": 2
   },
   "outputs": [],
   "source": [
    "spectral = []\n",
    "deltaspec = []\n",
    "varspec = []\n",
    "logfluc = []\n",
    "corr = []\n",
    "speccon = []\n",
    "for line in lines:\n",
    "\n",
    "    if line.startswith('SPECTRAL:'):\n",
    "        spectral.append(list(map(float, line.replace(\n",
    "            'SPECTRAL:', '').rstrip('\\n').strip().split(' '))))\n",
    "    if line.startswith('DELTASPECTRAL:'):\n",
    "        deltaspec.append(list(map(float, line.replace(\n",
    "            'DELTASPECTRAL:', '').rstrip('\\n').strip().split(' '))))\n",
    "    if line.startswith('VARIANCEDELTASPECTRAL:'):\n",
    "        varspec.append(list(map(float, line.replace(\n",
    "            'VARIANCEDELTASPECTRAL:', '').rstrip('\\n').strip().split(' '))))\n",
    "    if line.startswith('LOGARITHMICFLUCTUATION:'):\n",
    "        logfluc.append(list(map(float, line.replace(\n",
    "            'LOGARITHMICFLUCTUATION:', '').rstrip('\\n').strip().split(' '))))\n",
    "    if line.startswith('CORRELATION:'):\n",
    "        corr.append(list(map(float, line.replace(\n",
    "            'CORRELATION:', '').rstrip('\\n').strip().split(' '))))\n",
    "    if line.startswith('SPECTRALCONTRAST:'):\n",
    "        speccon.append(list(map(float, line.replace(\n",
    "            'SPECTRALCONTRAST:', '').rstrip('\\n').strip().split(' '))))"
   ]
  },
  {
   "cell_type": "code",
   "execution_count": 7,
   "metadata": {},
   "outputs": [],
   "source": [
    "df = pd.DataFrame(\n",
    "    {'SPECTRAL': spectral,\n",
    "     'DELTASPECTRAL': deltaspec,\n",
    "     'VARIANCEDELTASPECTRAL': varspec,\n",
    "     'LOGARITHMICFLUCTUATION': logfluc,\n",
    "     'CORRELATION': corr,\n",
    "     'SPECTRALCONTRAST': speccon\n",
    "     })"
   ]
  },
  {
   "cell_type": "code",
   "execution_count": 8,
   "metadata": {},
   "outputs": [
    {
     "data": {
      "text/html": [
       "<div>\n",
       "<style scoped>\n",
       "    .dataframe tbody tr th:only-of-type {\n",
       "        vertical-align: middle;\n",
       "    }\n",
       "\n",
       "    .dataframe tbody tr th {\n",
       "        vertical-align: top;\n",
       "    }\n",
       "\n",
       "    .dataframe thead th {\n",
       "        text-align: right;\n",
       "    }\n",
       "</style>\n",
       "<table border=\"1\" class=\"dataframe\">\n",
       "  <thead>\n",
       "    <tr style=\"text-align: right;\">\n",
       "      <th></th>\n",
       "      <th>SPECTRAL</th>\n",
       "      <th>DELTASPECTRAL</th>\n",
       "      <th>VARIANCEDELTASPECTRAL</th>\n",
       "      <th>LOGARITHMICFLUCTUATION</th>\n",
       "      <th>CORRELATION</th>\n",
       "      <th>SPECTRALCONTRAST</th>\n",
       "    </tr>\n",
       "  </thead>\n",
       "  <tbody>\n",
       "    <tr>\n",
       "      <th>0</th>\n",
       "      <td>[-0.0315295, -0.0255247, -0.0223557, -0.019199...</td>\n",
       "      <td>[0.000946698, 0.0019733, 0.00280769, 0.0037678...</td>\n",
       "      <td>[0.0023107, 0.00245491, 0.00256964, 0.00268689...</td>\n",
       "      <td>[17.2747, 27.0661, 40.696, 89.8944, 110.846, 8...</td>\n",
       "      <td>[0.00049472, 0.000352754, 0.000331897, 0.00032...</td>\n",
       "      <td>[0.019277, 0.0243692, 0.0271908, 0.0282635, 0....</td>\n",
       "    </tr>\n",
       "    <tr>\n",
       "      <th>1</th>\n",
       "      <td>[-0.0290814, -0.0236205, -0.0205705, -0.018726...</td>\n",
       "      <td>[0.00100166, 0.00169647, 0.00264387, 0.0035443...</td>\n",
       "      <td>[0.00239419, 0.00241911, 0.00243979, 0.0025311...</td>\n",
       "      <td>[13.1384, 20.8441, 27.6096, 35.502, 40.2289, 4...</td>\n",
       "      <td>[0.000270678, 0.000149724, 0.000109612, 8.0102...</td>\n",
       "      <td>[0.0254623, 0.0282966, 0.029933, 0.0317052, 0....</td>\n",
       "    </tr>\n",
       "    <tr>\n",
       "      <th>2</th>\n",
       "      <td>[-0.0293247, -0.0244724, -0.0211901, -0.018393...</td>\n",
       "      <td>[0.000684724, 0.00156535, 0.00267864, 0.003613...</td>\n",
       "      <td>[0.002159, 0.00222019, 0.00230413, 0.00237041,...</td>\n",
       "      <td>[19.5656, 27.7627, 29.6105, 34.1172, 39.3772, ...</td>\n",
       "      <td>[0.000357107, 0.000184863, 0.000118314, 0.0001...</td>\n",
       "      <td>[0.0258585, 0.0294637, 0.0312468, 0.0322719, 0...</td>\n",
       "    </tr>\n",
       "    <tr>\n",
       "      <th>3</th>\n",
       "      <td>[-0.030254, -0.0242809, -0.0209517, -0.0184083...</td>\n",
       "      <td>[0.000692874, 0.00176979, 0.00292655, 0.004073...</td>\n",
       "      <td>[0.00227422, 0.00232796, 0.00236614, 0.0024386...</td>\n",
       "      <td>[25.9055, 40.5907, 49.2968, 48.8784, 50.5929, ...</td>\n",
       "      <td>[0.000467102, 0.000386286, 0.000374436, 0.0003...</td>\n",
       "      <td>[0.024517, 0.0278683, 0.0300326, 0.0309299, 0....</td>\n",
       "    </tr>\n",
       "    <tr>\n",
       "      <th>4</th>\n",
       "      <td>[-0.0292564, -0.0239997, -0.0209238, -0.018810...</td>\n",
       "      <td>[0.000675877, 0.00162841, 0.0024357, 0.0035771...</td>\n",
       "      <td>[0.0022387, 0.00235265, 0.00248606, 0.00255088...</td>\n",
       "      <td>[16.9327, 21.6807, 36.7815, 43.1292, 46.9303, ...</td>\n",
       "      <td>[0.000389585, 0.000249075, 0.000209627, 0.0001...</td>\n",
       "      <td>[0.0270539, 0.030749, 0.0332027, 0.0347849, 0....</td>\n",
       "    </tr>\n",
       "  </tbody>\n",
       "</table>\n",
       "</div>"
      ],
      "text/plain": [
       "                                            SPECTRAL  \\\n",
       "0  [-0.0315295, -0.0255247, -0.0223557, -0.019199...   \n",
       "1  [-0.0290814, -0.0236205, -0.0205705, -0.018726...   \n",
       "2  [-0.0293247, -0.0244724, -0.0211901, -0.018393...   \n",
       "3  [-0.030254, -0.0242809, -0.0209517, -0.0184083...   \n",
       "4  [-0.0292564, -0.0239997, -0.0209238, -0.018810...   \n",
       "\n",
       "                                       DELTASPECTRAL  \\\n",
       "0  [0.000946698, 0.0019733, 0.00280769, 0.0037678...   \n",
       "1  [0.00100166, 0.00169647, 0.00264387, 0.0035443...   \n",
       "2  [0.000684724, 0.00156535, 0.00267864, 0.003613...   \n",
       "3  [0.000692874, 0.00176979, 0.00292655, 0.004073...   \n",
       "4  [0.000675877, 0.00162841, 0.0024357, 0.0035771...   \n",
       "\n",
       "                               VARIANCEDELTASPECTRAL  \\\n",
       "0  [0.0023107, 0.00245491, 0.00256964, 0.00268689...   \n",
       "1  [0.00239419, 0.00241911, 0.00243979, 0.0025311...   \n",
       "2  [0.002159, 0.00222019, 0.00230413, 0.00237041,...   \n",
       "3  [0.00227422, 0.00232796, 0.00236614, 0.0024386...   \n",
       "4  [0.0022387, 0.00235265, 0.00248606, 0.00255088...   \n",
       "\n",
       "                              LOGARITHMICFLUCTUATION  \\\n",
       "0  [17.2747, 27.0661, 40.696, 89.8944, 110.846, 8...   \n",
       "1  [13.1384, 20.8441, 27.6096, 35.502, 40.2289, 4...   \n",
       "2  [19.5656, 27.7627, 29.6105, 34.1172, 39.3772, ...   \n",
       "3  [25.9055, 40.5907, 49.2968, 48.8784, 50.5929, ...   \n",
       "4  [16.9327, 21.6807, 36.7815, 43.1292, 46.9303, ...   \n",
       "\n",
       "                                         CORRELATION  \\\n",
       "0  [0.00049472, 0.000352754, 0.000331897, 0.00032...   \n",
       "1  [0.000270678, 0.000149724, 0.000109612, 8.0102...   \n",
       "2  [0.000357107, 0.000184863, 0.000118314, 0.0001...   \n",
       "3  [0.000467102, 0.000386286, 0.000374436, 0.0003...   \n",
       "4  [0.000389585, 0.000249075, 0.000209627, 0.0001...   \n",
       "\n",
       "                                    SPECTRALCONTRAST  \n",
       "0  [0.019277, 0.0243692, 0.0271908, 0.0282635, 0....  \n",
       "1  [0.0254623, 0.0282966, 0.029933, 0.0317052, 0....  \n",
       "2  [0.0258585, 0.0294637, 0.0312468, 0.0322719, 0...  \n",
       "3  [0.024517, 0.0278683, 0.0300326, 0.0309299, 0....  \n",
       "4  [0.0270539, 0.030749, 0.0332027, 0.0347849, 0....  "
      ]
     },
     "execution_count": 8,
     "metadata": {},
     "output_type": "execute_result"
    }
   ],
   "source": [
    "df.head()"
   ]
  },
  {
   "cell_type": "markdown",
   "metadata": {},
   "source": [
    "## Median of BLF Features"
   ]
  },
  {
   "cell_type": "code",
   "execution_count": 9,
   "metadata": {},
   "outputs": [],
   "source": [
    "median_mat = df.copy()\n",
    "\n",
    "median_mat.head(3)\n",
    "tot_len = len(df)"
   ]
  },
  {
   "cell_type": "code",
   "execution_count": 10,
   "metadata": {},
   "outputs": [],
   "source": [
    "median_mat['SPECTRAL_M'] = np.nan\n",
    "median_mat['DELTASPECTRAL_M'] = np.nan\n",
    "median_mat['VARIANCEDELTASPECTRAL_M'] = np.nan\n",
    "median_mat['LOGARITHMICFLUCTUATION_M'] = np.nan\n",
    "median_mat['CORRELATION_M'] = np.nan\n",
    "median_mat['SPECTRALCONTRAST_M'] = np.nan\n",
    "for i in range(tot_len):\n",
    "    median_mat['SPECTRAL_M'][i] = np.median(median_mat['SPECTRAL'][i])\n",
    "    median_mat['DELTASPECTRAL_M'][i] = np.median(\n",
    "        median_mat['DELTASPECTRAL'][i])\n",
    "    median_mat['VARIANCEDELTASPECTRAL_M'][i] = np.median(\n",
    "        median_mat['VARIANCEDELTASPECTRAL'][i])\n",
    "    median_mat['LOGARITHMICFLUCTUATION_M'][i] = np.median(\n",
    "        median_mat['LOGARITHMICFLUCTUATION'][i])\n",
    "    median_mat['CORRELATION_M'][i] = np.median(median_mat['CORRELATION'][i])\n",
    "    median_mat['SPECTRALCONTRAST_M'][i] = np.median(\n",
    "        median_mat['SPECTRALCONTRAST'][i])"
   ]
  },
  {
   "cell_type": "code",
   "execution_count": 11,
   "metadata": {},
   "outputs": [
    {
     "data": {
      "text/html": [
       "<div>\n",
       "<style scoped>\n",
       "    .dataframe tbody tr th:only-of-type {\n",
       "        vertical-align: middle;\n",
       "    }\n",
       "\n",
       "    .dataframe tbody tr th {\n",
       "        vertical-align: top;\n",
       "    }\n",
       "\n",
       "    .dataframe thead th {\n",
       "        text-align: right;\n",
       "    }\n",
       "</style>\n",
       "<table border=\"1\" class=\"dataframe\">\n",
       "  <thead>\n",
       "    <tr style=\"text-align: right;\">\n",
       "      <th></th>\n",
       "      <th>SPECTRAL</th>\n",
       "      <th>DELTASPECTRAL</th>\n",
       "      <th>VARIANCEDELTASPECTRAL</th>\n",
       "      <th>LOGARITHMICFLUCTUATION</th>\n",
       "      <th>CORRELATION</th>\n",
       "      <th>SPECTRALCONTRAST</th>\n",
       "      <th>SPECTRAL_M</th>\n",
       "      <th>DELTASPECTRAL_M</th>\n",
       "      <th>VARIANCEDELTASPECTRAL_M</th>\n",
       "      <th>LOGARITHMICFLUCTUATION_M</th>\n",
       "      <th>CORRELATION_M</th>\n",
       "      <th>SPECTRALCONTRAST_M</th>\n",
       "    </tr>\n",
       "  </thead>\n",
       "  <tbody>\n",
       "    <tr>\n",
       "      <th>0</th>\n",
       "      <td>[-0.0315295, -0.0255247, -0.0223557, -0.019199...</td>\n",
       "      <td>[0.000946698, 0.0019733, 0.00280769, 0.0037678...</td>\n",
       "      <td>[0.0023107, 0.00245491, 0.00256964, 0.00268689...</td>\n",
       "      <td>[17.2747, 27.0661, 40.696, 89.8944, 110.846, 8...</td>\n",
       "      <td>[0.00049472, 0.000352754, 0.000331897, 0.00032...</td>\n",
       "      <td>[0.019277, 0.0243692, 0.0271908, 0.0282635, 0....</td>\n",
       "      <td>0.009694</td>\n",
       "      <td>0.004186</td>\n",
       "      <td>0.002453</td>\n",
       "      <td>278.6470</td>\n",
       "      <td>0.000115</td>\n",
       "      <td>0.025828</td>\n",
       "    </tr>\n",
       "    <tr>\n",
       "      <th>1</th>\n",
       "      <td>[-0.0290814, -0.0236205, -0.0205705, -0.018726...</td>\n",
       "      <td>[0.00100166, 0.00169647, 0.00264387, 0.0035443...</td>\n",
       "      <td>[0.00239419, 0.00241911, 0.00243979, 0.0025311...</td>\n",
       "      <td>[13.1384, 20.8441, 27.6096, 35.502, 40.2289, 4...</td>\n",
       "      <td>[0.000270678, 0.000149724, 0.000109612, 8.0102...</td>\n",
       "      <td>[0.0254623, 0.0282966, 0.029933, 0.0317052, 0....</td>\n",
       "      <td>0.007710</td>\n",
       "      <td>0.003423</td>\n",
       "      <td>0.002648</td>\n",
       "      <td>219.0230</td>\n",
       "      <td>0.000040</td>\n",
       "      <td>0.025420</td>\n",
       "    </tr>\n",
       "    <tr>\n",
       "      <th>2</th>\n",
       "      <td>[-0.0293247, -0.0244724, -0.0211901, -0.018393...</td>\n",
       "      <td>[0.000684724, 0.00156535, 0.00267864, 0.003613...</td>\n",
       "      <td>[0.002159, 0.00222019, 0.00230413, 0.00237041,...</td>\n",
       "      <td>[19.5656, 27.7627, 29.6105, 34.1172, 39.3772, ...</td>\n",
       "      <td>[0.000357107, 0.000184863, 0.000118314, 0.0001...</td>\n",
       "      <td>[0.0258585, 0.0294637, 0.0312468, 0.0322719, 0...</td>\n",
       "      <td>0.008604</td>\n",
       "      <td>0.003692</td>\n",
       "      <td>0.002757</td>\n",
       "      <td>231.1085</td>\n",
       "      <td>0.000050</td>\n",
       "      <td>0.027456</td>\n",
       "    </tr>\n",
       "    <tr>\n",
       "      <th>3</th>\n",
       "      <td>[-0.030254, -0.0242809, -0.0209517, -0.0184083...</td>\n",
       "      <td>[0.000692874, 0.00176979, 0.00292655, 0.004073...</td>\n",
       "      <td>[0.00227422, 0.00232796, 0.00236614, 0.0024386...</td>\n",
       "      <td>[25.9055, 40.5907, 49.2968, 48.8784, 50.5929, ...</td>\n",
       "      <td>[0.000467102, 0.000386286, 0.000374436, 0.0003...</td>\n",
       "      <td>[0.024517, 0.0278683, 0.0300326, 0.0309299, 0....</td>\n",
       "      <td>0.009157</td>\n",
       "      <td>0.003501</td>\n",
       "      <td>0.003110</td>\n",
       "      <td>257.2710</td>\n",
       "      <td>0.000165</td>\n",
       "      <td>0.029707</td>\n",
       "    </tr>\n",
       "  </tbody>\n",
       "</table>\n",
       "</div>"
      ],
      "text/plain": [
       "                                            SPECTRAL  \\\n",
       "0  [-0.0315295, -0.0255247, -0.0223557, -0.019199...   \n",
       "1  [-0.0290814, -0.0236205, -0.0205705, -0.018726...   \n",
       "2  [-0.0293247, -0.0244724, -0.0211901, -0.018393...   \n",
       "3  [-0.030254, -0.0242809, -0.0209517, -0.0184083...   \n",
       "\n",
       "                                       DELTASPECTRAL  \\\n",
       "0  [0.000946698, 0.0019733, 0.00280769, 0.0037678...   \n",
       "1  [0.00100166, 0.00169647, 0.00264387, 0.0035443...   \n",
       "2  [0.000684724, 0.00156535, 0.00267864, 0.003613...   \n",
       "3  [0.000692874, 0.00176979, 0.00292655, 0.004073...   \n",
       "\n",
       "                               VARIANCEDELTASPECTRAL  \\\n",
       "0  [0.0023107, 0.00245491, 0.00256964, 0.00268689...   \n",
       "1  [0.00239419, 0.00241911, 0.00243979, 0.0025311...   \n",
       "2  [0.002159, 0.00222019, 0.00230413, 0.00237041,...   \n",
       "3  [0.00227422, 0.00232796, 0.00236614, 0.0024386...   \n",
       "\n",
       "                              LOGARITHMICFLUCTUATION  \\\n",
       "0  [17.2747, 27.0661, 40.696, 89.8944, 110.846, 8...   \n",
       "1  [13.1384, 20.8441, 27.6096, 35.502, 40.2289, 4...   \n",
       "2  [19.5656, 27.7627, 29.6105, 34.1172, 39.3772, ...   \n",
       "3  [25.9055, 40.5907, 49.2968, 48.8784, 50.5929, ...   \n",
       "\n",
       "                                         CORRELATION  \\\n",
       "0  [0.00049472, 0.000352754, 0.000331897, 0.00032...   \n",
       "1  [0.000270678, 0.000149724, 0.000109612, 8.0102...   \n",
       "2  [0.000357107, 0.000184863, 0.000118314, 0.0001...   \n",
       "3  [0.000467102, 0.000386286, 0.000374436, 0.0003...   \n",
       "\n",
       "                                    SPECTRALCONTRAST  SPECTRAL_M  \\\n",
       "0  [0.019277, 0.0243692, 0.0271908, 0.0282635, 0....    0.009694   \n",
       "1  [0.0254623, 0.0282966, 0.029933, 0.0317052, 0....    0.007710   \n",
       "2  [0.0258585, 0.0294637, 0.0312468, 0.0322719, 0...    0.008604   \n",
       "3  [0.024517, 0.0278683, 0.0300326, 0.0309299, 0....    0.009157   \n",
       "\n",
       "   DELTASPECTRAL_M  VARIANCEDELTASPECTRAL_M  LOGARITHMICFLUCTUATION_M  \\\n",
       "0         0.004186                 0.002453                  278.6470   \n",
       "1         0.003423                 0.002648                  219.0230   \n",
       "2         0.003692                 0.002757                  231.1085   \n",
       "3         0.003501                 0.003110                  257.2710   \n",
       "\n",
       "   CORRELATION_M  SPECTRALCONTRAST_M  \n",
       "0       0.000115            0.025828  \n",
       "1       0.000040            0.025420  \n",
       "2       0.000050            0.027456  \n",
       "3       0.000165            0.029707  "
      ]
     },
     "execution_count": 11,
     "metadata": {},
     "output_type": "execute_result"
    }
   ],
   "source": [
    "median_mat.head(4)"
   ]
  },
  {
   "cell_type": "code",
   "execution_count": 12,
   "metadata": {},
   "outputs": [],
   "source": [
    "feature_vector_BL = median_mat.drop(['SPECTRAL', 'DELTASPECTRAL', 'VARIANCEDELTASPECTRAL',\n",
    "                                     'LOGARITHMICFLUCTUATION', 'CORRELATION', 'SPECTRALCONTRAST'], axis=1)"
   ]
  },
  {
   "cell_type": "code",
   "execution_count": 13,
   "metadata": {},
   "outputs": [
    {
     "data": {
      "text/html": [
       "<div>\n",
       "<style scoped>\n",
       "    .dataframe tbody tr th:only-of-type {\n",
       "        vertical-align: middle;\n",
       "    }\n",
       "\n",
       "    .dataframe tbody tr th {\n",
       "        vertical-align: top;\n",
       "    }\n",
       "\n",
       "    .dataframe thead th {\n",
       "        text-align: right;\n",
       "    }\n",
       "</style>\n",
       "<table border=\"1\" class=\"dataframe\">\n",
       "  <thead>\n",
       "    <tr style=\"text-align: right;\">\n",
       "      <th></th>\n",
       "      <th>SONG_ID</th>\n",
       "    </tr>\n",
       "  </thead>\n",
       "  <tbody>\n",
       "    <tr>\n",
       "      <th>0</th>\n",
       "      <td>375706</td>\n",
       "    </tr>\n",
       "    <tr>\n",
       "      <th>1</th>\n",
       "      <td>1000226</td>\n",
       "    </tr>\n",
       "    <tr>\n",
       "      <th>2</th>\n",
       "      <td>1001319</td>\n",
       "    </tr>\n",
       "    <tr>\n",
       "      <th>3</th>\n",
       "      <td>37580</td>\n",
       "    </tr>\n",
       "    <tr>\n",
       "      <th>4</th>\n",
       "      <td>37586</td>\n",
       "    </tr>\n",
       "  </tbody>\n",
       "</table>\n",
       "</div>"
      ],
      "text/plain": [
       "   SONG_ID\n",
       "0   375706\n",
       "1  1000226\n",
       "2  1001319\n",
       "3    37580\n",
       "4    37586"
      ]
     },
     "execution_count": 13,
     "metadata": {},
     "output_type": "execute_result"
    }
   ],
   "source": [
    "fdf = pd.read_csv('./Features/blf_similarities.txt', sep='\\t', nrows=1355)\n",
    "fdf = fdf.drop(fdf.columns[0], axis=1)\n",
    "fdf.columns = ['SONG_ID']\n",
    "fdf.head()"
   ]
  },
  {
   "cell_type": "code",
   "execution_count": 14,
   "metadata": {},
   "outputs": [
    {
     "data": {
      "text/html": [
       "<div>\n",
       "<style scoped>\n",
       "    .dataframe tbody tr th:only-of-type {\n",
       "        vertical-align: middle;\n",
       "    }\n",
       "\n",
       "    .dataframe tbody tr th {\n",
       "        vertical-align: top;\n",
       "    }\n",
       "\n",
       "    .dataframe thead th {\n",
       "        text-align: right;\n",
       "    }\n",
       "</style>\n",
       "<table border=\"1\" class=\"dataframe\">\n",
       "  <thead>\n",
       "    <tr style=\"text-align: right;\">\n",
       "      <th></th>\n",
       "      <th>SONG_ID</th>\n",
       "      <th>SPECTRAL_M</th>\n",
       "      <th>DELTASPECTRAL_M</th>\n",
       "      <th>VARIANCEDELTASPECTRAL_M</th>\n",
       "      <th>LOGARITHMICFLUCTUATION_M</th>\n",
       "      <th>CORRELATION_M</th>\n",
       "      <th>SPECTRALCONTRAST_M</th>\n",
       "    </tr>\n",
       "  </thead>\n",
       "  <tbody>\n",
       "    <tr>\n",
       "      <th>0</th>\n",
       "      <td>375706</td>\n",
       "      <td>0.009694</td>\n",
       "      <td>0.004186</td>\n",
       "      <td>0.002453</td>\n",
       "      <td>278.6470</td>\n",
       "      <td>0.000115</td>\n",
       "      <td>0.025828</td>\n",
       "    </tr>\n",
       "    <tr>\n",
       "      <th>1</th>\n",
       "      <td>1000226</td>\n",
       "      <td>0.007710</td>\n",
       "      <td>0.003423</td>\n",
       "      <td>0.002648</td>\n",
       "      <td>219.0230</td>\n",
       "      <td>0.000040</td>\n",
       "      <td>0.025420</td>\n",
       "    </tr>\n",
       "    <tr>\n",
       "      <th>2</th>\n",
       "      <td>1001319</td>\n",
       "      <td>0.008604</td>\n",
       "      <td>0.003692</td>\n",
       "      <td>0.002757</td>\n",
       "      <td>231.1085</td>\n",
       "      <td>0.000050</td>\n",
       "      <td>0.027456</td>\n",
       "    </tr>\n",
       "  </tbody>\n",
       "</table>\n",
       "</div>"
      ],
      "text/plain": [
       "   SONG_ID  SPECTRAL_M  DELTASPECTRAL_M  VARIANCEDELTASPECTRAL_M  \\\n",
       "0   375706    0.009694         0.004186                 0.002453   \n",
       "1  1000226    0.007710         0.003423                 0.002648   \n",
       "2  1001319    0.008604         0.003692                 0.002757   \n",
       "\n",
       "   LOGARITHMICFLUCTUATION_M  CORRELATION_M  SPECTRALCONTRAST_M  \n",
       "0                  278.6470       0.000115            0.025828  \n",
       "1                  219.0230       0.000040            0.025420  \n",
       "2                  231.1085       0.000050            0.027456  "
      ]
     },
     "execution_count": 14,
     "metadata": {},
     "output_type": "execute_result"
    }
   ],
   "source": [
    "fdfwithID = fdf.join(feature_vector_BL)\n",
    "fdfwithID.head(3)"
   ]
  },
  {
   "cell_type": "code",
   "execution_count": 15,
   "metadata": {},
   "outputs": [
    {
     "data": {
      "text/html": [
       "<div>\n",
       "<style scoped>\n",
       "    .dataframe tbody tr th:only-of-type {\n",
       "        vertical-align: middle;\n",
       "    }\n",
       "\n",
       "    .dataframe tbody tr th {\n",
       "        vertical-align: top;\n",
       "    }\n",
       "\n",
       "    .dataframe thead th {\n",
       "        text-align: right;\n",
       "    }\n",
       "</style>\n",
       "<table border=\"1\" class=\"dataframe\">\n",
       "  <thead>\n",
       "    <tr style=\"text-align: right;\">\n",
       "      <th></th>\n",
       "      <th>SONG_ID</th>\n",
       "      <th>MOODS</th>\n",
       "    </tr>\n",
       "  </thead>\n",
       "  <tbody>\n",
       "    <tr>\n",
       "      <th>0</th>\n",
       "      <td>1631</td>\n",
       "      <td>happy</td>\n",
       "    </tr>\n",
       "    <tr>\n",
       "      <th>1</th>\n",
       "      <td>2020</td>\n",
       "      <td>love</td>\n",
       "    </tr>\n",
       "    <tr>\n",
       "      <th>2</th>\n",
       "      <td>2206</td>\n",
       "      <td>n_strong</td>\n",
       "    </tr>\n",
       "    <tr>\n",
       "      <th>3</th>\n",
       "      <td>2207</td>\n",
       "      <td>n_strong</td>\n",
       "    </tr>\n",
       "    <tr>\n",
       "      <th>4</th>\n",
       "      <td>2208</td>\n",
       "      <td>headstrong</td>\n",
       "    </tr>\n",
       "  </tbody>\n",
       "</table>\n",
       "</div>"
      ],
      "text/plain": [
       "   SONG_ID       MOODS\n",
       "0     1631       happy\n",
       "1     2020        love\n",
       "2     2206    n_strong\n",
       "3     2207    n_strong\n",
       "4     2208  headstrong"
      ]
     },
     "execution_count": 15,
     "metadata": {},
     "output_type": "execute_result"
    }
   ],
   "source": [
    "moods_train = pd.read_csv('./data/moods_train.csv')\n",
    "moods_train.head()"
   ]
  },
  {
   "cell_type": "code",
   "execution_count": 16,
   "metadata": {},
   "outputs": [
    {
     "data": {
      "text/plain": [
       "904"
      ]
     },
     "execution_count": 16,
     "metadata": {},
     "output_type": "execute_result"
    }
   ],
   "source": [
    "songs_moods = moods_train['SONG_ID'].value_counts().keys().to_list()\n",
    "len(songs_moods)"
   ]
  },
  {
   "cell_type": "code",
   "execution_count": 17,
   "metadata": {},
   "outputs": [
    {
     "data": {
      "text/html": [
       "<div>\n",
       "<style scoped>\n",
       "    .dataframe tbody tr th:only-of-type {\n",
       "        vertical-align: middle;\n",
       "    }\n",
       "\n",
       "    .dataframe tbody tr th {\n",
       "        vertical-align: top;\n",
       "    }\n",
       "\n",
       "    .dataframe thead th {\n",
       "        text-align: right;\n",
       "    }\n",
       "</style>\n",
       "<table border=\"1\" class=\"dataframe\">\n",
       "  <thead>\n",
       "    <tr style=\"text-align: right;\">\n",
       "      <th></th>\n",
       "      <th>SONG_ID</th>\n",
       "      <th>SPECTRAL_M</th>\n",
       "      <th>DELTASPECTRAL_M</th>\n",
       "      <th>VARIANCEDELTASPECTRAL_M</th>\n",
       "      <th>LOGARITHMICFLUCTUATION_M</th>\n",
       "      <th>CORRELATION_M</th>\n",
       "      <th>SPECTRALCONTRAST_M</th>\n",
       "    </tr>\n",
       "  </thead>\n",
       "  <tbody>\n",
       "    <tr>\n",
       "      <th>1</th>\n",
       "      <td>1000226</td>\n",
       "      <td>0.007710</td>\n",
       "      <td>0.003423</td>\n",
       "      <td>0.002648</td>\n",
       "      <td>219.0230</td>\n",
       "      <td>0.000040</td>\n",
       "      <td>0.025420</td>\n",
       "    </tr>\n",
       "    <tr>\n",
       "      <th>2</th>\n",
       "      <td>1001319</td>\n",
       "      <td>0.008604</td>\n",
       "      <td>0.003692</td>\n",
       "      <td>0.002757</td>\n",
       "      <td>231.1085</td>\n",
       "      <td>0.000050</td>\n",
       "      <td>0.027456</td>\n",
       "    </tr>\n",
       "    <tr>\n",
       "      <th>3</th>\n",
       "      <td>37580</td>\n",
       "      <td>0.009157</td>\n",
       "      <td>0.003501</td>\n",
       "      <td>0.003110</td>\n",
       "      <td>257.2710</td>\n",
       "      <td>0.000165</td>\n",
       "      <td>0.029707</td>\n",
       "    </tr>\n",
       "    <tr>\n",
       "      <th>7</th>\n",
       "      <td>376917</td>\n",
       "      <td>0.010370</td>\n",
       "      <td>0.003959</td>\n",
       "      <td>0.003068</td>\n",
       "      <td>298.5275</td>\n",
       "      <td>0.000157</td>\n",
       "      <td>0.027073</td>\n",
       "    </tr>\n",
       "    <tr>\n",
       "      <th>8</th>\n",
       "      <td>1001325</td>\n",
       "      <td>0.007384</td>\n",
       "      <td>0.003321</td>\n",
       "      <td>0.002212</td>\n",
       "      <td>200.4800</td>\n",
       "      <td>0.000020</td>\n",
       "      <td>0.023999</td>\n",
       "    </tr>\n",
       "  </tbody>\n",
       "</table>\n",
       "</div>"
      ],
      "text/plain": [
       "   SONG_ID  SPECTRAL_M  DELTASPECTRAL_M  VARIANCEDELTASPECTRAL_M  \\\n",
       "1  1000226    0.007710         0.003423                 0.002648   \n",
       "2  1001319    0.008604         0.003692                 0.002757   \n",
       "3    37580    0.009157         0.003501                 0.003110   \n",
       "7   376917    0.010370         0.003959                 0.003068   \n",
       "8  1001325    0.007384         0.003321                 0.002212   \n",
       "\n",
       "   LOGARITHMICFLUCTUATION_M  CORRELATION_M  SPECTRALCONTRAST_M  \n",
       "1                  219.0230       0.000040            0.025420  \n",
       "2                  231.1085       0.000050            0.027456  \n",
       "3                  257.2710       0.000165            0.029707  \n",
       "7                  298.5275       0.000157            0.027073  \n",
       "8                  200.4800       0.000020            0.023999  "
      ]
     },
     "execution_count": 17,
     "metadata": {},
     "output_type": "execute_result"
    }
   ],
   "source": [
    "blf_songs_chosen_train = fdfwithID[fdfwithID.SONG_ID.isin(songs_moods)]\n",
    "blf_songs_chosen_train.head()"
   ]
  },
  {
   "cell_type": "code",
   "execution_count": 18,
   "metadata": {},
   "outputs": [],
   "source": [
    "blf_training_set_naive = blf_songs_chosen_train.merge(\n",
    "    moods_train, on='SONG_ID')"
   ]
  },
  {
   "cell_type": "code",
   "execution_count": 19,
   "metadata": {},
   "outputs": [
    {
     "data": {
      "text/html": [
       "<div>\n",
       "<style scoped>\n",
       "    .dataframe tbody tr th:only-of-type {\n",
       "        vertical-align: middle;\n",
       "    }\n",
       "\n",
       "    .dataframe tbody tr th {\n",
       "        vertical-align: top;\n",
       "    }\n",
       "\n",
       "    .dataframe thead th {\n",
       "        text-align: right;\n",
       "    }\n",
       "</style>\n",
       "<table border=\"1\" class=\"dataframe\">\n",
       "  <thead>\n",
       "    <tr style=\"text-align: right;\">\n",
       "      <th></th>\n",
       "      <th>SONG_ID</th>\n",
       "      <th>SPECTRAL_M</th>\n",
       "      <th>DELTASPECTRAL_M</th>\n",
       "      <th>VARIANCEDELTASPECTRAL_M</th>\n",
       "      <th>LOGARITHMICFLUCTUATION_M</th>\n",
       "      <th>CORRELATION_M</th>\n",
       "      <th>SPECTRALCONTRAST_M</th>\n",
       "      <th>MOODS</th>\n",
       "    </tr>\n",
       "  </thead>\n",
       "  <tbody>\n",
       "    <tr>\n",
       "      <th>0</th>\n",
       "      <td>1000226</td>\n",
       "      <td>0.007710</td>\n",
       "      <td>0.003423</td>\n",
       "      <td>0.002648</td>\n",
       "      <td>219.0230</td>\n",
       "      <td>0.000040</td>\n",
       "      <td>0.025420</td>\n",
       "      <td>n_strong</td>\n",
       "    </tr>\n",
       "    <tr>\n",
       "      <th>1</th>\n",
       "      <td>1001319</td>\n",
       "      <td>0.008604</td>\n",
       "      <td>0.003692</td>\n",
       "      <td>0.002757</td>\n",
       "      <td>231.1085</td>\n",
       "      <td>0.000050</td>\n",
       "      <td>0.027456</td>\n",
       "      <td>n_strong</td>\n",
       "    </tr>\n",
       "    <tr>\n",
       "      <th>2</th>\n",
       "      <td>37580</td>\n",
       "      <td>0.009157</td>\n",
       "      <td>0.003501</td>\n",
       "      <td>0.003110</td>\n",
       "      <td>257.2710</td>\n",
       "      <td>0.000165</td>\n",
       "      <td>0.029707</td>\n",
       "      <td>headstrong</td>\n",
       "    </tr>\n",
       "  </tbody>\n",
       "</table>\n",
       "</div>"
      ],
      "text/plain": [
       "   SONG_ID  SPECTRAL_M  DELTASPECTRAL_M  VARIANCEDELTASPECTRAL_M  \\\n",
       "0  1000226    0.007710         0.003423                 0.002648   \n",
       "1  1001319    0.008604         0.003692                 0.002757   \n",
       "2    37580    0.009157         0.003501                 0.003110   \n",
       "\n",
       "   LOGARITHMICFLUCTUATION_M  CORRELATION_M  SPECTRALCONTRAST_M       MOODS  \n",
       "0                  219.0230       0.000040            0.025420    n_strong  \n",
       "1                  231.1085       0.000050            0.027456    n_strong  \n",
       "2                  257.2710       0.000165            0.029707  headstrong  "
      ]
     },
     "execution_count": 19,
     "metadata": {},
     "output_type": "execute_result"
    }
   ],
   "source": [
    "blf_training_set_naive.head(3)"
   ]
  },
  {
   "cell_type": "markdown",
   "metadata": {},
   "source": [
    "# TEST PREP"
   ]
  },
  {
   "cell_type": "code",
   "execution_count": 20,
   "metadata": {},
   "outputs": [],
   "source": [
    "mood_test = pd.read_csv('./data/moods_test.csv')"
   ]
  },
  {
   "cell_type": "code",
   "execution_count": 21,
   "metadata": {},
   "outputs": [
    {
     "data": {
      "text/html": [
       "<div>\n",
       "<style scoped>\n",
       "    .dataframe tbody tr th:only-of-type {\n",
       "        vertical-align: middle;\n",
       "    }\n",
       "\n",
       "    .dataframe tbody tr th {\n",
       "        vertical-align: top;\n",
       "    }\n",
       "\n",
       "    .dataframe thead th {\n",
       "        text-align: right;\n",
       "    }\n",
       "</style>\n",
       "<table border=\"1\" class=\"dataframe\">\n",
       "  <thead>\n",
       "    <tr style=\"text-align: right;\">\n",
       "      <th></th>\n",
       "      <th>SONG_ID</th>\n",
       "      <th>SPECTRAL_M</th>\n",
       "      <th>DELTASPECTRAL_M</th>\n",
       "      <th>VARIANCEDELTASPECTRAL_M</th>\n",
       "      <th>LOGARITHMICFLUCTUATION_M</th>\n",
       "      <th>CORRELATION_M</th>\n",
       "      <th>SPECTRALCONTRAST_M</th>\n",
       "    </tr>\n",
       "  </thead>\n",
       "  <tbody>\n",
       "    <tr>\n",
       "      <th>0</th>\n",
       "      <td>375706</td>\n",
       "      <td>0.009694</td>\n",
       "      <td>0.004186</td>\n",
       "      <td>0.002453</td>\n",
       "      <td>278.6470</td>\n",
       "      <td>0.000115</td>\n",
       "      <td>0.025828</td>\n",
       "    </tr>\n",
       "    <tr>\n",
       "      <th>1</th>\n",
       "      <td>1000226</td>\n",
       "      <td>0.007710</td>\n",
       "      <td>0.003423</td>\n",
       "      <td>0.002648</td>\n",
       "      <td>219.0230</td>\n",
       "      <td>0.000040</td>\n",
       "      <td>0.025420</td>\n",
       "    </tr>\n",
       "    <tr>\n",
       "      <th>2</th>\n",
       "      <td>1001319</td>\n",
       "      <td>0.008604</td>\n",
       "      <td>0.003692</td>\n",
       "      <td>0.002757</td>\n",
       "      <td>231.1085</td>\n",
       "      <td>0.000050</td>\n",
       "      <td>0.027456</td>\n",
       "    </tr>\n",
       "  </tbody>\n",
       "</table>\n",
       "</div>"
      ],
      "text/plain": [
       "   SONG_ID  SPECTRAL_M  DELTASPECTRAL_M  VARIANCEDELTASPECTRAL_M  \\\n",
       "0   375706    0.009694         0.004186                 0.002453   \n",
       "1  1000226    0.007710         0.003423                 0.002648   \n",
       "2  1001319    0.008604         0.003692                 0.002757   \n",
       "\n",
       "   LOGARITHMICFLUCTUATION_M  CORRELATION_M  SPECTRALCONTRAST_M  \n",
       "0                  278.6470       0.000115            0.025828  \n",
       "1                  219.0230       0.000040            0.025420  \n",
       "2                  231.1085       0.000050            0.027456  "
      ]
     },
     "execution_count": 21,
     "metadata": {},
     "output_type": "execute_result"
    }
   ],
   "source": [
    "fdfwithID.head(3)"
   ]
  },
  {
   "cell_type": "code",
   "execution_count": 22,
   "metadata": {},
   "outputs": [
    {
     "data": {
      "text/plain": [
       "347"
      ]
     },
     "execution_count": 22,
     "metadata": {},
     "output_type": "execute_result"
    }
   ],
   "source": [
    "songs_moods_test = mood_test['SONG_ID'].value_counts().keys().to_list()\n",
    "len(songs_moods_test)"
   ]
  },
  {
   "cell_type": "code",
   "execution_count": 23,
   "metadata": {},
   "outputs": [
    {
     "data": {
      "text/html": [
       "<div>\n",
       "<style scoped>\n",
       "    .dataframe tbody tr th:only-of-type {\n",
       "        vertical-align: middle;\n",
       "    }\n",
       "\n",
       "    .dataframe tbody tr th {\n",
       "        vertical-align: top;\n",
       "    }\n",
       "\n",
       "    .dataframe thead th {\n",
       "        text-align: right;\n",
       "    }\n",
       "</style>\n",
       "<table border=\"1\" class=\"dataframe\">\n",
       "  <thead>\n",
       "    <tr style=\"text-align: right;\">\n",
       "      <th></th>\n",
       "      <th>SONG_ID</th>\n",
       "      <th>SPECTRAL_M</th>\n",
       "      <th>DELTASPECTRAL_M</th>\n",
       "      <th>VARIANCEDELTASPECTRAL_M</th>\n",
       "      <th>LOGARITHMICFLUCTUATION_M</th>\n",
       "      <th>CORRELATION_M</th>\n",
       "      <th>SPECTRALCONTRAST_M</th>\n",
       "    </tr>\n",
       "  </thead>\n",
       "  <tbody>\n",
       "    <tr>\n",
       "      <th>0</th>\n",
       "      <td>375706</td>\n",
       "      <td>0.009694</td>\n",
       "      <td>0.004186</td>\n",
       "      <td>0.002453</td>\n",
       "      <td>278.6470</td>\n",
       "      <td>0.000115</td>\n",
       "      <td>0.025828</td>\n",
       "    </tr>\n",
       "    <tr>\n",
       "      <th>4</th>\n",
       "      <td>37586</td>\n",
       "      <td>0.009072</td>\n",
       "      <td>0.003427</td>\n",
       "      <td>0.002950</td>\n",
       "      <td>238.6390</td>\n",
       "      <td>0.000080</td>\n",
       "      <td>0.027667</td>\n",
       "    </tr>\n",
       "    <tr>\n",
       "      <th>6</th>\n",
       "      <td>1001321</td>\n",
       "      <td>0.010897</td>\n",
       "      <td>0.004231</td>\n",
       "      <td>0.003631</td>\n",
       "      <td>317.1605</td>\n",
       "      <td>0.000153</td>\n",
       "      <td>0.025367</td>\n",
       "    </tr>\n",
       "    <tr>\n",
       "      <th>13</th>\n",
       "      <td>1004185</td>\n",
       "      <td>0.009855</td>\n",
       "      <td>0.005407</td>\n",
       "      <td>0.002496</td>\n",
       "      <td>370.9895</td>\n",
       "      <td>0.000239</td>\n",
       "      <td>0.026177</td>\n",
       "    </tr>\n",
       "    <tr>\n",
       "      <th>14</th>\n",
       "      <td>380203</td>\n",
       "      <td>0.012318</td>\n",
       "      <td>0.005255</td>\n",
       "      <td>0.003768</td>\n",
       "      <td>397.7705</td>\n",
       "      <td>0.000200</td>\n",
       "      <td>0.026988</td>\n",
       "    </tr>\n",
       "  </tbody>\n",
       "</table>\n",
       "</div>"
      ],
      "text/plain": [
       "    SONG_ID  SPECTRAL_M  DELTASPECTRAL_M  VARIANCEDELTASPECTRAL_M  \\\n",
       "0    375706    0.009694         0.004186                 0.002453   \n",
       "4     37586    0.009072         0.003427                 0.002950   \n",
       "6   1001321    0.010897         0.004231                 0.003631   \n",
       "13  1004185    0.009855         0.005407                 0.002496   \n",
       "14   380203    0.012318         0.005255                 0.003768   \n",
       "\n",
       "    LOGARITHMICFLUCTUATION_M  CORRELATION_M  SPECTRALCONTRAST_M  \n",
       "0                   278.6470       0.000115            0.025828  \n",
       "4                   238.6390       0.000080            0.027667  \n",
       "6                   317.1605       0.000153            0.025367  \n",
       "13                  370.9895       0.000239            0.026177  \n",
       "14                  397.7705       0.000200            0.026988  "
      ]
     },
     "execution_count": 23,
     "metadata": {},
     "output_type": "execute_result"
    }
   ],
   "source": [
    "blf_songs_chosen_test = fdfwithID[fdfwithID.SONG_ID.isin(songs_moods_test)]\n",
    "blf_songs_chosen_test.head()"
   ]
  },
  {
   "cell_type": "code",
   "execution_count": 24,
   "metadata": {},
   "outputs": [],
   "source": [
    "blf_training_set_naive_test = blf_songs_chosen_test.merge(\n",
    "    mood_test, on='SONG_ID')\n"
   ]
  },
  {
   "cell_type": "code",
   "execution_count": 25,
   "metadata": {},
   "outputs": [],
   "source": [
    "le = LabelEncoder()\n",
    "blf_training_set_naive_test['MOODS_ENC'] = le.fit_transform(\n",
    "    blf_training_set_naive_test['MOODS'])"
   ]
  },
  {
   "cell_type": "code",
   "execution_count": 26,
   "metadata": {},
   "outputs": [],
   "source": [
    "X_test = blf_training_set_naive_test.drop(\n",
    "    ['SONG_ID', 'MOODS', 'MOODS_ENC'], axis=1).to_numpy()\n",
    "Y_test = blf_training_set_naive_test['MOODS_ENC']"
   ]
  },
  {
   "cell_type": "markdown",
   "metadata": {},
   "source": [
    "# MODEL"
   ]
  },
  {
   "cell_type": "markdown",
   "metadata": {},
   "source": [
    "## KNN"
   ]
  },
  {
   "cell_type": "code",
   "execution_count": 27,
   "metadata": {},
   "outputs": [],
   "source": [
    "# label encoding for the moods\n",
    "blf_training_set_naive['MOODS_ENC'] = le.fit_transform(\n",
    "    blf_training_set_naive['MOODS'])\n"
   ]
  },
  {
   "cell_type": "code",
   "execution_count": 28,
   "metadata": {},
   "outputs": [],
   "source": [
    "features = blf_training_set_naive.drop(\n",
    "    ['SONG_ID', 'MOODS', 'MOODS_ENC'], axis=1).to_numpy()\n",
    "labels = blf_training_set_naive['MOODS_ENC']"
   ]
  },
  {
   "cell_type": "code",
   "execution_count": 29,
   "metadata": {},
   "outputs": [
    {
     "data": {
      "text/plain": [
       "KNeighborsClassifier()"
      ]
     },
     "execution_count": 29,
     "metadata": {},
     "output_type": "execute_result"
    }
   ],
   "source": [
    "knn_model = KNeighborsClassifier(n_neighbors=5)\n",
    "# Train the model using the training sets\n",
    "knn_model.fit(features, labels)"
   ]
  },
  {
   "cell_type": "code",
   "execution_count": 30,
   "metadata": {},
   "outputs": [],
   "source": [
    "knn_predict = knn_model.predict(X_test)"
   ]
  },
  {
   "cell_type": "code",
   "execution_count": 31,
   "metadata": {},
   "outputs": [
    {
     "data": {
      "text/plain": [
       "0.17002881844380405"
      ]
     },
     "execution_count": 31,
     "metadata": {},
     "output_type": "execute_result"
    }
   ],
   "source": [
    "accuracy_score(Y_test, knn_predict)"
   ]
  },
  {
   "cell_type": "code",
   "execution_count": 32,
   "metadata": {},
   "outputs": [],
   "source": [
    "cm = confusion_matrix(Y_test, knn_predict)"
   ]
  },
  {
   "cell_type": "code",
   "execution_count": 33,
   "metadata": {},
   "outputs": [
    {
     "data": {
      "image/png": "[encoded data removed]",
      "text/plain": [
       "<Figure size 720x504 with 2 Axes>"
      ]
     },
     "metadata": {
      "needs_background": "light"
     },
     "output_type": "display_data"
    },
    {
     "name": "stdout",
     "output_type": "stream",
     "text": [
      "Accuracy = 0.17002881844380405\n"
     ]
    }
   ],
   "source": [
    "df_cm = pd.DataFrame(cm, index=['bright', 'happy', 'headstrong', 'love', 'n_down', 'n_strong', 'optimistic', 'relaxed', 'weird'],\n",
    "                     columns=['bright', 'happy', 'headstrong', 'love', 'n_down', 'n_strong', 'optimistic', 'relaxed', 'weird'])\n",
    "plt.figure(figsize=(10, 7))\n",
    "sns.heatmap(df_cm, annot=True)\n",
    "plt.ylabel('True label')\n",
    "plt.xlabel('Predicted label')\n",
    "plt.title('Confusion Matrix of Naive Approach using BLF Features')\n",
    "plt.tight_layout()\n",
    "plt.show()\n",
    "\n",
    "print(\"Accuracy =\", accuracy_score(Y_test, knn_predict))"
   ]
  },
  {
   "cell_type": "markdown",
   "metadata": {},
   "source": [
    "## Pre-processing Ps09"
   ]
  },
  {
   "cell_type": "code",
   "execution_count": 34,
   "metadata": {},
   "outputs": [],
   "source": [
    "with open('./Features/ps09_features.txt') as f:\n",
    "    lines = f.readlines()"
   ]
  },
  {
   "cell_type": "code",
   "execution_count": 35,
   "metadata": {},
   "outputs": [],
   "source": [
    "tcg_cov = []\n",
    "tcg_m = []\n",
    "tcg_e = []\n",
    "tcg_e_approx = []\n",
    "tcg_dm = []\n",
    "tcg_ds = []\n",
    "\n",
    "ocg_cov = []\n",
    "ocg_m = []\n",
    "ocg_e = []\n",
    "ocg_e_approx = []\n",
    "ocg_dm = []\n",
    "ocg_ds = []\n",
    "\n",
    "for line in lines:\n",
    "\n",
    "    if line.startswith('TCG_COV:'):\n",
    "        tcg_cov.append(\n",
    "            list(map(float, line.replace('TCG_COV:', '').rstrip('\\n').strip().split(' '))))\n",
    "    if line.startswith('TCG_M:'):\n",
    "        tcg_m.append(\n",
    "            list(map(float, line.replace('TCG_M:', '').rstrip('\\n').strip().split(' '))))\n",
    "    if line.startswith('TCG_E:'):\n",
    "        tcg_e.append(\n",
    "            list(map(float, line.replace('TCG_E:', '').rstrip('\\n').strip().split(' '))))\n",
    "    if line.startswith('TCG_E_APPROX:'):\n",
    "        tcg_e_approx.append(list(map(float, line.replace(\n",
    "            'TCG_E_APPROX:', '').rstrip('\\n').strip().split(' '))))\n",
    "    if line.startswith('TCG_DM:'):\n",
    "        tcg_dm.append(\n",
    "            list(map(float, line.replace('TCG_DM:', '').rstrip('\\n').strip().split(' '))))\n",
    "    if line.startswith('TCG_DS:'):\n",
    "        tcg_ds.append(\n",
    "            list(map(float, line.replace('TCG_DS:', '').rstrip('\\n').strip().split(' '))))\n",
    "    if line.startswith('OCG_COV:'):\n",
    "        ocg_cov.append(\n",
    "            list(map(float, line.replace('OCG_COV:', '').rstrip('\\n').strip().split(' '))))\n",
    "    if line.startswith('OCG_M:'):\n",
    "        ocg_m.append(\n",
    "            list(map(float, line.replace('OCG_M:', '').rstrip('\\n').strip().split(' '))))\n",
    "    if line.startswith('OCG_E:'):\n",
    "        ocg_e.append(\n",
    "            list(map(float, line.replace('OCG_E:', '').rstrip('\\n').strip().split(' '))))\n",
    "    if line.startswith('OCG_E_APPROX:'):\n",
    "        ocg_e_approx.append(list(map(float, line.replace(\n",
    "            'OCG_E_APPROX:', '').rstrip('\\n').strip().split(' '))))\n",
    "    if line.startswith('OCG_DM:'):\n",
    "        ocg_dm.append(\n",
    "            list(map(float, line.replace('OCG_DM:', '').rstrip('\\n').strip().split(' '))))\n",
    "    if line.startswith('OCG_DS:'):\n",
    "        ocg_ds.append(\n",
    "            list(map(float, line.replace('OCG_DS:', '').rstrip('\\n').strip().split(' '))))"
   ]
  },
  {
   "cell_type": "code",
   "execution_count": 36,
   "metadata": {},
   "outputs": [],
   "source": [
    "ps09 = pd.DataFrame(\n",
    "    {'TCG_COV': tcg_cov,\n",
    "     'TCG_M': tcg_m,\n",
    "     'TCG_E': tcg_e,\n",
    "     'TCG_E_APPROX': tcg_e_approx,\n",
    "     'TCG_DM': tcg_dm,\n",
    "     'TCG_DS': tcg_ds,\n",
    "     'OCG_COV': ocg_cov,\n",
    "     'OCG_M': ocg_m,\n",
    "     'OCG_E': ocg_e,\n",
    "     'OCG_E_APPROX': ocg_e_approx,\n",
    "     'OCG_DM': ocg_dm,\n",
    "     'OCG_DS': ocg_ds\n",
    "     })"
   ]
  },
  {
   "cell_type": "code",
   "execution_count": 37,
   "metadata": {},
   "outputs": [],
   "source": [
    "median_mat_ps09 = ps09.copy()\n",
    "\n",
    "median_mat_ps09.head(3)\n",
    "tot_len = len(ps09)"
   ]
  },
  {
   "cell_type": "code",
   "execution_count": 38,
   "metadata": {},
   "outputs": [],
   "source": [
    "median_mat_ps09['TCG_COV_M'] = np.nan\n",
    "median_mat_ps09['TCG_M_M'] = np.nan\n",
    "median_mat_ps09['TCG_E_M'] = np.nan\n",
    "median_mat_ps09['TCG_E_APPROX_M'] = np.nan\n",
    "median_mat_ps09['TCG_DM_M'] = np.nan\n",
    "median_mat_ps09['TCG_DS_M'] = np.nan\n",
    "\n",
    "median_mat_ps09['OCG_COV_M'] = np.nan\n",
    "median_mat_ps09['OCG_M_M'] = np.nan\n",
    "median_mat_ps09['OCG_E_M'] = np.nan\n",
    "median_mat_ps09['OCG_E_APPROX_M'] = np.nan\n",
    "median_mat_ps09['OCG_DM_M'] = np.nan\n",
    "median_mat_ps09['OCG_DS_M'] = np.nan\n",
    "\n",
    "for i in range(tot_len):\n",
    "    median_mat_ps09['TCG_COV_M'][i] = np.median(median_mat_ps09['TCG_COV'][i])\n",
    "    median_mat_ps09['TCG_M_M'][i] = np.median(median_mat_ps09['TCG_M'][i])\n",
    "    median_mat_ps09['TCG_E_M'][i] = np.median(median_mat_ps09['TCG_E'][i])\n",
    "    median_mat_ps09['TCG_E_APPROX_M'][i] = np.median(\n",
    "        median_mat_ps09['TCG_E_APPROX'][i])\n",
    "    median_mat_ps09['TCG_DM_M'][i] = np.median(median_mat_ps09['TCG_DM'][i])\n",
    "    median_mat_ps09['TCG_DS_M'][i] = np.median(median_mat_ps09['TCG_DS'][i])\n",
    "\n",
    "    median_mat_ps09['OCG_COV_M'][i] = np.median(median_mat_ps09['OCG_COV'][i])\n",
    "    median_mat_ps09['OCG_M_M'][i] = np.median(median_mat_ps09['OCG_M'][i])\n",
    "    median_mat_ps09['OCG_E_M'][i] = np.median(median_mat_ps09['OCG_E'][i])\n",
    "    median_mat_ps09['OCG_E_APPROX_M'][i] = np.median(\n",
    "        median_mat_ps09['OCG_E_APPROX'][i])\n",
    "    median_mat_ps09['OCG_DM_M'][i] = np.median(median_mat_ps09['OCG_DM'][i])\n",
    "    median_mat_ps09['OCG_DS_M'][i] = np.median(median_mat_ps09['OCG_DS'][i])"
   ]
  },
  {
   "cell_type": "code",
   "execution_count": 39,
   "metadata": {},
   "outputs": [
    {
     "data": {
      "text/html": [
       "<div>\n",
       "<style scoped>\n",
       "    .dataframe tbody tr th:only-of-type {\n",
       "        vertical-align: middle;\n",
       "    }\n",
       "\n",
       "    .dataframe tbody tr th {\n",
       "        vertical-align: top;\n",
       "    }\n",
       "\n",
       "    .dataframe thead th {\n",
       "        text-align: right;\n",
       "    }\n",
       "</style>\n",
       "<table border=\"1\" class=\"dataframe\">\n",
       "  <thead>\n",
       "    <tr style=\"text-align: right;\">\n",
       "      <th></th>\n",
       "      <th>TCG_COV</th>\n",
       "      <th>TCG_M</th>\n",
       "      <th>TCG_E</th>\n",
       "      <th>TCG_E_APPROX</th>\n",
       "      <th>TCG_DM</th>\n",
       "      <th>TCG_DS</th>\n",
       "      <th>OCG_COV</th>\n",
       "      <th>OCG_M</th>\n",
       "      <th>OCG_E</th>\n",
       "      <th>OCG_E_APPROX</th>\n",
       "      <th>...</th>\n",
       "      <th>TCG_E_M</th>\n",
       "      <th>TCG_E_APPROX_M</th>\n",
       "      <th>TCG_DM_M</th>\n",
       "      <th>TCG_DS_M</th>\n",
       "      <th>OCG_COV_M</th>\n",
       "      <th>OCG_M_M</th>\n",
       "      <th>OCG_E_M</th>\n",
       "      <th>OCG_E_APPROX_M</th>\n",
       "      <th>OCG_DM_M</th>\n",
       "      <th>OCG_DS_M</th>\n",
       "    </tr>\n",
       "  </thead>\n",
       "  <tbody>\n",
       "    <tr>\n",
       "      <th>0</th>\n",
       "      <td>[319.538, -45.8501, 0.267912, -13.6128, -8.548...</td>\n",
       "      <td>[549.483, 21.6684, -42.9428, -10.8609, -24.987...</td>\n",
       "      <td>[97.0395]</td>\n",
       "      <td>[104.984]</td>\n",
       "      <td>[0.0]</td>\n",
       "      <td>[1.0]</td>\n",
       "      <td>[5506.77, -391.741, -290.632, 1133.95, -4683.9...</td>\n",
       "      <td>[1577.75, 66.877, -722.626, -92.0883, -119.625...</td>\n",
       "      <td>[244.658]</td>\n",
       "      <td>[289.286]</td>\n",
       "      <td>...</td>\n",
       "      <td>97.0395</td>\n",
       "      <td>104.984</td>\n",
       "      <td>0.0</td>\n",
       "      <td>1.0</td>\n",
       "      <td>-26.982700</td>\n",
       "      <td>-6.002495</td>\n",
       "      <td>244.658</td>\n",
       "      <td>289.286</td>\n",
       "      <td>0.0</td>\n",
       "      <td>1.0</td>\n",
       "    </tr>\n",
       "    <tr>\n",
       "      <th>1</th>\n",
       "      <td>[190.943, -116.152, 38.2106, -37.1937, -17.373...</td>\n",
       "      <td>[538.419, 25.3463, -30.3232, -1.69132, -24.829...</td>\n",
       "      <td>[92.1754]</td>\n",
       "      <td>[100.661]</td>\n",
       "      <td>[0.0]</td>\n",
       "      <td>[1.0]</td>\n",
       "      <td>[1174.43, -589.13, -140.333, -51.251, -829.96,...</td>\n",
       "      <td>[1402.57, 34.9043, -712.065, -121.737, 27.0527...</td>\n",
       "      <td>[223.94]</td>\n",
       "      <td>[260.011]</td>\n",
       "      <td>...</td>\n",
       "      <td>92.1754</td>\n",
       "      <td>100.661</td>\n",
       "      <td>0.0</td>\n",
       "      <td>1.0</td>\n",
       "      <td>2.007195</td>\n",
       "      <td>3.347235</td>\n",
       "      <td>223.940</td>\n",
       "      <td>260.011</td>\n",
       "      <td>0.0</td>\n",
       "      <td>1.0</td>\n",
       "    </tr>\n",
       "    <tr>\n",
       "      <th>2</th>\n",
       "      <td>[325.063, -166.346, 12.6094, -38.9829, 23.3117...</td>\n",
       "      <td>[537.103, 36.4399, -34.4463, -5.76654, -27.841...</td>\n",
       "      <td>[96.6597]</td>\n",
       "      <td>[104.246]</td>\n",
       "      <td>[0.0]</td>\n",
       "      <td>[1.0]</td>\n",
       "      <td>[2927.52, -876.89, -1046.93, -1340.93, -414.91...</td>\n",
       "      <td>[1385.25, 34.7152, -657.183, -71.3458, 13.4824...</td>\n",
       "      <td>[219.249]</td>\n",
       "      <td>[253.747]</td>\n",
       "      <td>...</td>\n",
       "      <td>96.6597</td>\n",
       "      <td>104.246</td>\n",
       "      <td>0.0</td>\n",
       "      <td>1.0</td>\n",
       "      <td>-17.829400</td>\n",
       "      <td>-0.637084</td>\n",
       "      <td>219.249</td>\n",
       "      <td>253.747</td>\n",
       "      <td>0.0</td>\n",
       "      <td>1.0</td>\n",
       "    </tr>\n",
       "    <tr>\n",
       "      <th>3</th>\n",
       "      <td>[718.013, -166.345, 32.4895, -60.3501, 13.2168...</td>\n",
       "      <td>[499.108, 44.9616, -25.4591, -4.76643, -27.665...</td>\n",
       "      <td>[100.649]</td>\n",
       "      <td>[108.027]</td>\n",
       "      <td>[0.0]</td>\n",
       "      <td>[1.0]</td>\n",
       "      <td>[3968.66, -845.087, 1071.58, 417.387, -2860.47...</td>\n",
       "      <td>[1392.52, 86.663, -610.037, -30.0828, -99.4535...</td>\n",
       "      <td>[232.939]</td>\n",
       "      <td>[272.748]</td>\n",
       "      <td>...</td>\n",
       "      <td>100.6490</td>\n",
       "      <td>108.027</td>\n",
       "      <td>0.0</td>\n",
       "      <td>1.0</td>\n",
       "      <td>9.807000</td>\n",
       "      <td>-1.001265</td>\n",
       "      <td>232.939</td>\n",
       "      <td>272.748</td>\n",
       "      <td>0.0</td>\n",
       "      <td>1.0</td>\n",
       "    </tr>\n",
       "  </tbody>\n",
       "</table>\n",
       "<p>4 rows × 24 columns</p>\n",
       "</div>"
      ],
      "text/plain": [
       "                                             TCG_COV  \\\n",
       "0  [319.538, -45.8501, 0.267912, -13.6128, -8.548...   \n",
       "1  [190.943, -116.152, 38.2106, -37.1937, -17.373...   \n",
       "2  [325.063, -166.346, 12.6094, -38.9829, 23.3117...   \n",
       "3  [718.013, -166.345, 32.4895, -60.3501, 13.2168...   \n",
       "\n",
       "                                               TCG_M      TCG_E TCG_E_APPROX  \\\n",
       "0  [549.483, 21.6684, -42.9428, -10.8609, -24.987...  [97.0395]    [104.984]   \n",
       "1  [538.419, 25.3463, -30.3232, -1.69132, -24.829...  [92.1754]    [100.661]   \n",
       "2  [537.103, 36.4399, -34.4463, -5.76654, -27.841...  [96.6597]    [104.246]   \n",
       "3  [499.108, 44.9616, -25.4591, -4.76643, -27.665...  [100.649]    [108.027]   \n",
       "\n",
       "  TCG_DM TCG_DS                                            OCG_COV  \\\n",
       "0  [0.0]  [1.0]  [5506.77, -391.741, -290.632, 1133.95, -4683.9...   \n",
       "1  [0.0]  [1.0]  [1174.43, -589.13, -140.333, -51.251, -829.96,...   \n",
       "2  [0.0]  [1.0]  [2927.52, -876.89, -1046.93, -1340.93, -414.91...   \n",
       "3  [0.0]  [1.0]  [3968.66, -845.087, 1071.58, 417.387, -2860.47...   \n",
       "\n",
       "                                               OCG_M      OCG_E OCG_E_APPROX  \\\n",
       "0  [1577.75, 66.877, -722.626, -92.0883, -119.625...  [244.658]    [289.286]   \n",
       "1  [1402.57, 34.9043, -712.065, -121.737, 27.0527...   [223.94]    [260.011]   \n",
       "2  [1385.25, 34.7152, -657.183, -71.3458, 13.4824...  [219.249]    [253.747]   \n",
       "3  [1392.52, 86.663, -610.037, -30.0828, -99.4535...  [232.939]    [272.748]   \n",
       "\n",
       "   ...   TCG_E_M TCG_E_APPROX_M  TCG_DM_M  TCG_DS_M  OCG_COV_M   OCG_M_M  \\\n",
       "0  ...   97.0395        104.984       0.0       1.0 -26.982700 -6.002495   \n",
       "1  ...   92.1754        100.661       0.0       1.0   2.007195  3.347235   \n",
       "2  ...   96.6597        104.246       0.0       1.0 -17.829400 -0.637084   \n",
       "3  ...  100.6490        108.027       0.0       1.0   9.807000 -1.001265   \n",
       "\n",
       "   OCG_E_M  OCG_E_APPROX_M  OCG_DM_M  OCG_DS_M  \n",
       "0  244.658         289.286       0.0       1.0  \n",
       "1  223.940         260.011       0.0       1.0  \n",
       "2  219.249         253.747       0.0       1.0  \n",
       "3  232.939         272.748       0.0       1.0  \n",
       "\n",
       "[4 rows x 24 columns]"
      ]
     },
     "execution_count": 39,
     "metadata": {},
     "output_type": "execute_result"
    }
   ],
   "source": [
    "median_mat_ps09.head(4)"
   ]
  },
  {
   "cell_type": "code",
   "execution_count": 40,
   "metadata": {},
   "outputs": [],
   "source": [
    "feature_vector_PS09 = median_mat_ps09.drop(['TCG_COV', 'TCG_M', 'TCG_E', 'TCG_E_APPROX', 'TCG_DM', 'TCG_DS',\n",
    "                                            'OCG_COV', 'OCG_M', 'OCG_E', 'OCG_E_APPROX', 'OCG_DM', 'OCG_DS'], axis=1)"
   ]
  },
  {
   "cell_type": "code",
   "execution_count": 41,
   "metadata": {},
   "outputs": [],
   "source": [
    "fps09 = pd.read_csv('./Features/ps09_similarities.txt', sep='\\t', nrows=1355)\n",
    "fps09 = fps09.drop(fps09.columns[0], axis=1)\n",
    "fps09.columns = ['SONG_ID']\n"
   ]
  },
  {
   "cell_type": "code",
   "execution_count": 42,
   "metadata": {},
   "outputs": [],
   "source": [
    "fps09withID = fps09.join(feature_vector_PS09)\n"
   ]
  },
  {
   "cell_type": "code",
   "execution_count": 43,
   "metadata": {},
   "outputs": [],
   "source": [
    "ps09_songs_chosen_train = fps09withID[fps09withID.SONG_ID.isin(songs_moods)]\n"
   ]
  },
  {
   "cell_type": "code",
   "execution_count": 44,
   "metadata": {},
   "outputs": [],
   "source": [
    "ps09_training_set_naive = ps09_songs_chosen_train.merge(\n",
    "    moods_train, on='SONG_ID')\n"
   ]
  },
  {
   "cell_type": "code",
   "execution_count": 45,
   "metadata": {},
   "outputs": [],
   "source": [
    "ps09_blf = ps09_training_set_naive.drop(['MOODS'], axis=1)\n"
   ]
  },
  {
   "cell_type": "markdown",
   "metadata": {},
   "source": [
    "## BLF + PS09 Train Set"
   ]
  },
  {
   "cell_type": "code",
   "execution_count": 46,
   "metadata": {},
   "outputs": [
    {
     "data": {
      "text/html": [
       "<div>\n",
       "<style scoped>\n",
       "    .dataframe tbody tr th:only-of-type {\n",
       "        vertical-align: middle;\n",
       "    }\n",
       "\n",
       "    .dataframe tbody tr th {\n",
       "        vertical-align: top;\n",
       "    }\n",
       "\n",
       "    .dataframe thead th {\n",
       "        text-align: right;\n",
       "    }\n",
       "</style>\n",
       "<table border=\"1\" class=\"dataframe\">\n",
       "  <thead>\n",
       "    <tr style=\"text-align: right;\">\n",
       "      <th></th>\n",
       "      <th>SONG_ID</th>\n",
       "      <th>SPECTRAL_M</th>\n",
       "      <th>DELTASPECTRAL_M</th>\n",
       "      <th>VARIANCEDELTASPECTRAL_M</th>\n",
       "      <th>LOGARITHMICFLUCTUATION_M</th>\n",
       "      <th>CORRELATION_M</th>\n",
       "      <th>SPECTRALCONTRAST_M</th>\n",
       "      <th>MOODS</th>\n",
       "      <th>MOODS_ENC</th>\n",
       "      <th>TCG_COV_M</th>\n",
       "      <th>...</th>\n",
       "      <th>TCG_E_M</th>\n",
       "      <th>TCG_E_APPROX_M</th>\n",
       "      <th>TCG_DM_M</th>\n",
       "      <th>TCG_DS_M</th>\n",
       "      <th>OCG_COV_M</th>\n",
       "      <th>OCG_M_M</th>\n",
       "      <th>OCG_E_M</th>\n",
       "      <th>OCG_E_APPROX_M</th>\n",
       "      <th>OCG_DM_M</th>\n",
       "      <th>OCG_DS_M</th>\n",
       "    </tr>\n",
       "  </thead>\n",
       "  <tbody>\n",
       "    <tr>\n",
       "      <th>0</th>\n",
       "      <td>1000226</td>\n",
       "      <td>0.007710</td>\n",
       "      <td>0.003423</td>\n",
       "      <td>0.002648</td>\n",
       "      <td>219.0230</td>\n",
       "      <td>0.000040</td>\n",
       "      <td>0.025420</td>\n",
       "      <td>n_strong</td>\n",
       "      <td>5</td>\n",
       "      <td>-0.006477</td>\n",
       "      <td>...</td>\n",
       "      <td>92.1754</td>\n",
       "      <td>100.6610</td>\n",
       "      <td>0.0</td>\n",
       "      <td>1.0</td>\n",
       "      <td>2.007195</td>\n",
       "      <td>3.347235</td>\n",
       "      <td>223.940</td>\n",
       "      <td>260.011</td>\n",
       "      <td>0.0</td>\n",
       "      <td>1.0</td>\n",
       "    </tr>\n",
       "    <tr>\n",
       "      <th>1</th>\n",
       "      <td>1001319</td>\n",
       "      <td>0.008604</td>\n",
       "      <td>0.003692</td>\n",
       "      <td>0.002757</td>\n",
       "      <td>231.1085</td>\n",
       "      <td>0.000050</td>\n",
       "      <td>0.027456</td>\n",
       "      <td>n_strong</td>\n",
       "      <td>5</td>\n",
       "      <td>-0.050893</td>\n",
       "      <td>...</td>\n",
       "      <td>96.6597</td>\n",
       "      <td>104.2460</td>\n",
       "      <td>0.0</td>\n",
       "      <td>1.0</td>\n",
       "      <td>-17.829400</td>\n",
       "      <td>-0.637084</td>\n",
       "      <td>219.249</td>\n",
       "      <td>253.747</td>\n",
       "      <td>0.0</td>\n",
       "      <td>1.0</td>\n",
       "    </tr>\n",
       "    <tr>\n",
       "      <th>2</th>\n",
       "      <td>37580</td>\n",
       "      <td>0.009157</td>\n",
       "      <td>0.003501</td>\n",
       "      <td>0.003110</td>\n",
       "      <td>257.2710</td>\n",
       "      <td>0.000165</td>\n",
       "      <td>0.029707</td>\n",
       "      <td>headstrong</td>\n",
       "      <td>2</td>\n",
       "      <td>0.198145</td>\n",
       "      <td>...</td>\n",
       "      <td>100.6490</td>\n",
       "      <td>108.0270</td>\n",
       "      <td>0.0</td>\n",
       "      <td>1.0</td>\n",
       "      <td>9.807000</td>\n",
       "      <td>-1.001265</td>\n",
       "      <td>232.939</td>\n",
       "      <td>272.748</td>\n",
       "      <td>0.0</td>\n",
       "      <td>1.0</td>\n",
       "    </tr>\n",
       "    <tr>\n",
       "      <th>3</th>\n",
       "      <td>376917</td>\n",
       "      <td>0.010370</td>\n",
       "      <td>0.003959</td>\n",
       "      <td>0.003068</td>\n",
       "      <td>298.5275</td>\n",
       "      <td>0.000157</td>\n",
       "      <td>0.027073</td>\n",
       "      <td>n_strong</td>\n",
       "      <td>5</td>\n",
       "      <td>0.043467</td>\n",
       "      <td>...</td>\n",
       "      <td>103.1790</td>\n",
       "      <td>110.0800</td>\n",
       "      <td>0.0</td>\n",
       "      <td>1.0</td>\n",
       "      <td>-7.228775</td>\n",
       "      <td>-0.049625</td>\n",
       "      <td>233.911</td>\n",
       "      <td>272.076</td>\n",
       "      <td>0.0</td>\n",
       "      <td>1.0</td>\n",
       "    </tr>\n",
       "    <tr>\n",
       "      <th>4</th>\n",
       "      <td>1001325</td>\n",
       "      <td>0.007384</td>\n",
       "      <td>0.003321</td>\n",
       "      <td>0.002212</td>\n",
       "      <td>200.4800</td>\n",
       "      <td>0.000020</td>\n",
       "      <td>0.023999</td>\n",
       "      <td>relaxed</td>\n",
       "      <td>7</td>\n",
       "      <td>-0.041742</td>\n",
       "      <td>...</td>\n",
       "      <td>86.1130</td>\n",
       "      <td>92.3184</td>\n",
       "      <td>0.0</td>\n",
       "      <td>1.0</td>\n",
       "      <td>3.156635</td>\n",
       "      <td>5.829050</td>\n",
       "      <td>223.838</td>\n",
       "      <td>264.590</td>\n",
       "      <td>0.0</td>\n",
       "      <td>1.0</td>\n",
       "    </tr>\n",
       "    <tr>\n",
       "      <th>...</th>\n",
       "      <td>...</td>\n",
       "      <td>...</td>\n",
       "      <td>...</td>\n",
       "      <td>...</td>\n",
       "      <td>...</td>\n",
       "      <td>...</td>\n",
       "      <td>...</td>\n",
       "      <td>...</td>\n",
       "      <td>...</td>\n",
       "      <td>...</td>\n",
       "      <td>...</td>\n",
       "      <td>...</td>\n",
       "      <td>...</td>\n",
       "      <td>...</td>\n",
       "      <td>...</td>\n",
       "      <td>...</td>\n",
       "      <td>...</td>\n",
       "      <td>...</td>\n",
       "      <td>...</td>\n",
       "      <td>...</td>\n",
       "      <td>...</td>\n",
       "    </tr>\n",
       "    <tr>\n",
       "      <th>899</th>\n",
       "      <td>375083</td>\n",
       "      <td>0.011672</td>\n",
       "      <td>0.004960</td>\n",
       "      <td>0.003522</td>\n",
       "      <td>365.1475</td>\n",
       "      <td>0.000303</td>\n",
       "      <td>0.025870</td>\n",
       "      <td>n_down</td>\n",
       "      <td>4</td>\n",
       "      <td>0.237441</td>\n",
       "      <td>...</td>\n",
       "      <td>110.5280</td>\n",
       "      <td>119.1510</td>\n",
       "      <td>0.0</td>\n",
       "      <td>1.0</td>\n",
       "      <td>4.232020</td>\n",
       "      <td>-3.974845</td>\n",
       "      <td>242.278</td>\n",
       "      <td>288.617</td>\n",
       "      <td>0.0</td>\n",
       "      <td>1.0</td>\n",
       "    </tr>\n",
       "    <tr>\n",
       "      <th>900</th>\n",
       "      <td>993066</td>\n",
       "      <td>0.010659</td>\n",
       "      <td>0.005519</td>\n",
       "      <td>0.003556</td>\n",
       "      <td>388.8205</td>\n",
       "      <td>0.000267</td>\n",
       "      <td>0.027796</td>\n",
       "      <td>n_strong</td>\n",
       "      <td>5</td>\n",
       "      <td>0.075809</td>\n",
       "      <td>...</td>\n",
       "      <td>109.3700</td>\n",
       "      <td>116.5400</td>\n",
       "      <td>0.0</td>\n",
       "      <td>1.0</td>\n",
       "      <td>3.919530</td>\n",
       "      <td>-2.719980</td>\n",
       "      <td>241.029</td>\n",
       "      <td>278.696</td>\n",
       "      <td>0.0</td>\n",
       "      <td>1.0</td>\n",
       "    </tr>\n",
       "    <tr>\n",
       "      <th>901</th>\n",
       "      <td>375268</td>\n",
       "      <td>0.009386</td>\n",
       "      <td>0.004518</td>\n",
       "      <td>0.002567</td>\n",
       "      <td>278.2145</td>\n",
       "      <td>0.000185</td>\n",
       "      <td>0.024311</td>\n",
       "      <td>happy</td>\n",
       "      <td>1</td>\n",
       "      <td>0.087187</td>\n",
       "      <td>...</td>\n",
       "      <td>101.6000</td>\n",
       "      <td>110.4240</td>\n",
       "      <td>0.0</td>\n",
       "      <td>1.0</td>\n",
       "      <td>-8.651620</td>\n",
       "      <td>-4.312160</td>\n",
       "      <td>236.414</td>\n",
       "      <td>284.694</td>\n",
       "      <td>0.0</td>\n",
       "      <td>1.0</td>\n",
       "    </tr>\n",
       "    <tr>\n",
       "      <th>902</th>\n",
       "      <td>993088</td>\n",
       "      <td>0.008083</td>\n",
       "      <td>0.003562</td>\n",
       "      <td>0.002839</td>\n",
       "      <td>222.9525</td>\n",
       "      <td>0.000064</td>\n",
       "      <td>0.027412</td>\n",
       "      <td>n_strong</td>\n",
       "      <td>5</td>\n",
       "      <td>0.039481</td>\n",
       "      <td>...</td>\n",
       "      <td>96.2277</td>\n",
       "      <td>104.4460</td>\n",
       "      <td>0.0</td>\n",
       "      <td>1.0</td>\n",
       "      <td>-16.474000</td>\n",
       "      <td>3.647035</td>\n",
       "      <td>221.737</td>\n",
       "      <td>258.025</td>\n",
       "      <td>0.0</td>\n",
       "      <td>1.0</td>\n",
       "    </tr>\n",
       "    <tr>\n",
       "      <th>903</th>\n",
       "      <td>993092</td>\n",
       "      <td>0.010964</td>\n",
       "      <td>0.003729</td>\n",
       "      <td>0.003467</td>\n",
       "      <td>230.9215</td>\n",
       "      <td>0.000069</td>\n",
       "      <td>0.026908</td>\n",
       "      <td>optimistic</td>\n",
       "      <td>6</td>\n",
       "      <td>0.078722</td>\n",
       "      <td>...</td>\n",
       "      <td>103.0970</td>\n",
       "      <td>113.2990</td>\n",
       "      <td>0.0</td>\n",
       "      <td>1.0</td>\n",
       "      <td>-9.789535</td>\n",
       "      <td>-0.446522</td>\n",
       "      <td>229.378</td>\n",
       "      <td>278.568</td>\n",
       "      <td>0.0</td>\n",
       "      <td>1.0</td>\n",
       "    </tr>\n",
       "  </tbody>\n",
       "</table>\n",
       "<p>904 rows × 21 columns</p>\n",
       "</div>"
      ],
      "text/plain": [
       "     SONG_ID  SPECTRAL_M  DELTASPECTRAL_M  VARIANCEDELTASPECTRAL_M  \\\n",
       "0    1000226    0.007710         0.003423                 0.002648   \n",
       "1    1001319    0.008604         0.003692                 0.002757   \n",
       "2      37580    0.009157         0.003501                 0.003110   \n",
       "3     376917    0.010370         0.003959                 0.003068   \n",
       "4    1001325    0.007384         0.003321                 0.002212   \n",
       "..       ...         ...              ...                      ...   \n",
       "899   375083    0.011672         0.004960                 0.003522   \n",
       "900   993066    0.010659         0.005519                 0.003556   \n",
       "901   375268    0.009386         0.004518                 0.002567   \n",
       "902   993088    0.008083         0.003562                 0.002839   \n",
       "903   993092    0.010964         0.003729                 0.003467   \n",
       "\n",
       "     LOGARITHMICFLUCTUATION_M  CORRELATION_M  SPECTRALCONTRAST_M       MOODS  \\\n",
       "0                    219.0230       0.000040            0.025420    n_strong   \n",
       "1                    231.1085       0.000050            0.027456    n_strong   \n",
       "2                    257.2710       0.000165            0.029707  headstrong   \n",
       "3                    298.5275       0.000157            0.027073    n_strong   \n",
       "4                    200.4800       0.000020            0.023999     relaxed   \n",
       "..                        ...            ...                 ...         ...   \n",
       "899                  365.1475       0.000303            0.025870      n_down   \n",
       "900                  388.8205       0.000267            0.027796    n_strong   \n",
       "901                  278.2145       0.000185            0.024311       happy   \n",
       "902                  222.9525       0.000064            0.027412    n_strong   \n",
       "903                  230.9215       0.000069            0.026908  optimistic   \n",
       "\n",
       "     MOODS_ENC  TCG_COV_M  ...   TCG_E_M  TCG_E_APPROX_M  TCG_DM_M  TCG_DS_M  \\\n",
       "0            5  -0.006477  ...   92.1754        100.6610       0.0       1.0   \n",
       "1            5  -0.050893  ...   96.6597        104.2460       0.0       1.0   \n",
       "2            2   0.198145  ...  100.6490        108.0270       0.0       1.0   \n",
       "3            5   0.043467  ...  103.1790        110.0800       0.0       1.0   \n",
       "4            7  -0.041742  ...   86.1130         92.3184       0.0       1.0   \n",
       "..         ...        ...  ...       ...             ...       ...       ...   \n",
       "899          4   0.237441  ...  110.5280        119.1510       0.0       1.0   \n",
       "900          5   0.075809  ...  109.3700        116.5400       0.0       1.0   \n",
       "901          1   0.087187  ...  101.6000        110.4240       0.0       1.0   \n",
       "902          5   0.039481  ...   96.2277        104.4460       0.0       1.0   \n",
       "903          6   0.078722  ...  103.0970        113.2990       0.0       1.0   \n",
       "\n",
       "     OCG_COV_M   OCG_M_M  OCG_E_M  OCG_E_APPROX_M  OCG_DM_M  OCG_DS_M  \n",
       "0     2.007195  3.347235  223.940         260.011       0.0       1.0  \n",
       "1   -17.829400 -0.637084  219.249         253.747       0.0       1.0  \n",
       "2     9.807000 -1.001265  232.939         272.748       0.0       1.0  \n",
       "3    -7.228775 -0.049625  233.911         272.076       0.0       1.0  \n",
       "4     3.156635  5.829050  223.838         264.590       0.0       1.0  \n",
       "..         ...       ...      ...             ...       ...       ...  \n",
       "899   4.232020 -3.974845  242.278         288.617       0.0       1.0  \n",
       "900   3.919530 -2.719980  241.029         278.696       0.0       1.0  \n",
       "901  -8.651620 -4.312160  236.414         284.694       0.0       1.0  \n",
       "902 -16.474000  3.647035  221.737         258.025       0.0       1.0  \n",
       "903  -9.789535 -0.446522  229.378         278.568       0.0       1.0  \n",
       "\n",
       "[904 rows x 21 columns]"
      ]
     },
     "execution_count": 46,
     "metadata": {},
     "output_type": "execute_result"
    }
   ],
   "source": [
    "ps09_blf_train = blf_training_set_naive.merge(ps09_blf, on='SONG_ID')\n",
    "ps09_blf_train"
   ]
  },
  {
   "cell_type": "markdown",
   "metadata": {},
   "source": [
    "## BLF + PS09 Test Set"
   ]
  },
  {
   "cell_type": "code",
   "execution_count": 47,
   "metadata": {},
   "outputs": [
    {
     "data": {
      "text/html": [
       "<div>\n",
       "<style scoped>\n",
       "    .dataframe tbody tr th:only-of-type {\n",
       "        vertical-align: middle;\n",
       "    }\n",
       "\n",
       "    .dataframe tbody tr th {\n",
       "        vertical-align: top;\n",
       "    }\n",
       "\n",
       "    .dataframe thead th {\n",
       "        text-align: right;\n",
       "    }\n",
       "</style>\n",
       "<table border=\"1\" class=\"dataframe\">\n",
       "  <thead>\n",
       "    <tr style=\"text-align: right;\">\n",
       "      <th></th>\n",
       "      <th>SONG_ID</th>\n",
       "      <th>TCG_COV_M</th>\n",
       "      <th>TCG_M_M</th>\n",
       "      <th>TCG_E_M</th>\n",
       "      <th>TCG_E_APPROX_M</th>\n",
       "      <th>TCG_DM_M</th>\n",
       "      <th>TCG_DS_M</th>\n",
       "      <th>OCG_COV_M</th>\n",
       "      <th>OCG_M_M</th>\n",
       "      <th>OCG_E_M</th>\n",
       "      <th>OCG_E_APPROX_M</th>\n",
       "      <th>OCG_DM_M</th>\n",
       "      <th>OCG_DS_M</th>\n",
       "    </tr>\n",
       "  </thead>\n",
       "  <tbody>\n",
       "    <tr>\n",
       "      <th>0</th>\n",
       "      <td>375706</td>\n",
       "      <td>0.173011</td>\n",
       "      <td>-1.000643</td>\n",
       "      <td>97.0395</td>\n",
       "      <td>104.984</td>\n",
       "      <td>0.0</td>\n",
       "      <td>1.0</td>\n",
       "      <td>-26.982700</td>\n",
       "      <td>-6.002495</td>\n",
       "      <td>244.658</td>\n",
       "      <td>289.286</td>\n",
       "      <td>0.0</td>\n",
       "      <td>1.0</td>\n",
       "    </tr>\n",
       "    <tr>\n",
       "      <th>4</th>\n",
       "      <td>37586</td>\n",
       "      <td>-0.004340</td>\n",
       "      <td>-0.590726</td>\n",
       "      <td>95.6184</td>\n",
       "      <td>103.732</td>\n",
       "      <td>0.0</td>\n",
       "      <td>1.0</td>\n",
       "      <td>-11.284300</td>\n",
       "      <td>-2.464580</td>\n",
       "      <td>222.491</td>\n",
       "      <td>255.909</td>\n",
       "      <td>0.0</td>\n",
       "      <td>1.0</td>\n",
       "    </tr>\n",
       "    <tr>\n",
       "      <th>6</th>\n",
       "      <td>1001321</td>\n",
       "      <td>0.017042</td>\n",
       "      <td>-0.112752</td>\n",
       "      <td>108.6550</td>\n",
       "      <td>117.924</td>\n",
       "      <td>0.0</td>\n",
       "      <td>1.0</td>\n",
       "      <td>15.308150</td>\n",
       "      <td>-5.775602</td>\n",
       "      <td>239.756</td>\n",
       "      <td>283.837</td>\n",
       "      <td>0.0</td>\n",
       "      <td>1.0</td>\n",
       "    </tr>\n",
       "    <tr>\n",
       "      <th>13</th>\n",
       "      <td>1004185</td>\n",
       "      <td>0.478837</td>\n",
       "      <td>-1.058452</td>\n",
       "      <td>105.6560</td>\n",
       "      <td>115.390</td>\n",
       "      <td>0.0</td>\n",
       "      <td>1.0</td>\n",
       "      <td>-8.192185</td>\n",
       "      <td>-11.679240</td>\n",
       "      <td>240.790</td>\n",
       "      <td>286.268</td>\n",
       "      <td>0.0</td>\n",
       "      <td>1.0</td>\n",
       "    </tr>\n",
       "    <tr>\n",
       "      <th>14</th>\n",
       "      <td>380203</td>\n",
       "      <td>0.349147</td>\n",
       "      <td>-0.551659</td>\n",
       "      <td>112.4250</td>\n",
       "      <td>122.243</td>\n",
       "      <td>0.0</td>\n",
       "      <td>1.0</td>\n",
       "      <td>-8.282225</td>\n",
       "      <td>-0.063389</td>\n",
       "      <td>240.673</td>\n",
       "      <td>279.739</td>\n",
       "      <td>0.0</td>\n",
       "      <td>1.0</td>\n",
       "    </tr>\n",
       "  </tbody>\n",
       "</table>\n",
       "</div>"
      ],
      "text/plain": [
       "    SONG_ID  TCG_COV_M   TCG_M_M   TCG_E_M  TCG_E_APPROX_M  TCG_DM_M  \\\n",
       "0    375706   0.173011 -1.000643   97.0395         104.984       0.0   \n",
       "4     37586  -0.004340 -0.590726   95.6184         103.732       0.0   \n",
       "6   1001321   0.017042 -0.112752  108.6550         117.924       0.0   \n",
       "13  1004185   0.478837 -1.058452  105.6560         115.390       0.0   \n",
       "14   380203   0.349147 -0.551659  112.4250         122.243       0.0   \n",
       "\n",
       "    TCG_DS_M  OCG_COV_M    OCG_M_M  OCG_E_M  OCG_E_APPROX_M  OCG_DM_M  \\\n",
       "0        1.0 -26.982700  -6.002495  244.658         289.286       0.0   \n",
       "4        1.0 -11.284300  -2.464580  222.491         255.909       0.0   \n",
       "6        1.0  15.308150  -5.775602  239.756         283.837       0.0   \n",
       "13       1.0  -8.192185 -11.679240  240.790         286.268       0.0   \n",
       "14       1.0  -8.282225  -0.063389  240.673         279.739       0.0   \n",
       "\n",
       "    OCG_DS_M  \n",
       "0        1.0  \n",
       "4        1.0  \n",
       "6        1.0  \n",
       "13       1.0  \n",
       "14       1.0  "
      ]
     },
     "execution_count": 47,
     "metadata": {},
     "output_type": "execute_result"
    }
   ],
   "source": [
    "ps09_songs_chosen_test = fps09withID[fps09withID.SONG_ID.isin(songs_moods_test)]\n",
    "ps09_songs_chosen_test.head()"
   ]
  },
  {
   "cell_type": "code",
   "execution_count": 48,
   "metadata": {},
   "outputs": [],
   "source": [
    "ps09_testing_set_naive = ps09_songs_chosen_test.merge(mood_test, on='SONG_ID')"
   ]
  },
  {
   "cell_type": "code",
   "execution_count": 49,
   "metadata": {},
   "outputs": [],
   "source": [
    "ps09_blf_test = ps09_testing_set_naive.drop(['MOODS'], axis=1)"
   ]
  },
  {
   "cell_type": "code",
   "execution_count": 50,
   "metadata": {},
   "outputs": [],
   "source": [
    "ps09_blf_test = blf_training_set_naive_test.merge(ps09_blf_test, on='SONG_ID')\n",
    "#ps09_blf_test.head()"
   ]
  },
  {
   "cell_type": "markdown",
   "metadata": {},
   "source": [
    "## MODELS"
   ]
  },
  {
   "cell_type": "markdown",
   "metadata": {},
   "source": [
    "## KNN"
   ]
  },
  {
   "cell_type": "code",
   "execution_count": 51,
   "metadata": {},
   "outputs": [],
   "source": [
    "X_test_both = ps09_blf_test.drop(\n",
    "    ['SONG_ID', 'MOODS', 'MOODS_ENC'], axis=1).to_numpy()\n",
    "Y_test_both = ps09_blf_test['MOODS_ENC']"
   ]
  },
  {
   "cell_type": "code",
   "execution_count": 52,
   "metadata": {},
   "outputs": [],
   "source": [
    "features_both = ps09_blf_train.drop(\n",
    "    ['SONG_ID', 'MOODS', 'MOODS_ENC'], axis=1).to_numpy()\n",
    "labels_both = ps09_blf_train['MOODS_ENC']"
   ]
  },
  {
   "cell_type": "code",
   "execution_count": 53,
   "metadata": {},
   "outputs": [
    {
     "data": {
      "text/plain": [
       "KNeighborsClassifier()"
      ]
     },
     "execution_count": 53,
     "metadata": {},
     "output_type": "execute_result"
    }
   ],
   "source": [
    "knn_model = KNeighborsClassifier(n_neighbors=5)\n",
    "# Train the model using the training sets\n",
    "knn_model.fit(features_both, labels_both)"
   ]
  },
  {
   "cell_type": "code",
   "execution_count": 54,
   "metadata": {},
   "outputs": [],
   "source": [
    "knn_predict = knn_model.predict(X_test_both)"
   ]
  },
  {
   "cell_type": "code",
   "execution_count": 55,
   "metadata": {},
   "outputs": [
    {
     "data": {
      "text/plain": [
       "0.15561959654178675"
      ]
     },
     "execution_count": 55,
     "metadata": {},
     "output_type": "execute_result"
    }
   ],
   "source": [
    "accuracy_score(Y_test_both, knn_predict)"
   ]
  },
  {
   "cell_type": "code",
   "execution_count": 56,
   "metadata": {},
   "outputs": [],
   "source": [
    "cm = confusion_matrix(Y_test_both, knn_predict)"
   ]
  },
  {
   "cell_type": "code",
   "execution_count": 57,
   "metadata": {
    "lines_to_next_cell": 2
   },
   "outputs": [
    {
     "data": {
      "image/png": "[encoded data removed]",
      "text/plain": [
       "<Figure size 720x504 with 2 Axes>"
      ]
     },
     "metadata": {
      "needs_background": "light"
     },
     "output_type": "display_data"
    },
    {
     "name": "stdout",
     "output_type": "stream",
     "text": [
      "Accuracy = 0.15561959654178675\n"
     ]
    }
   ],
   "source": [
    "df_cm = pd.DataFrame(cm, index=['bright', 'happy', 'headstrong', 'love', 'n_down', 'n_strong', 'optimistic', 'relaxed', 'weird'],\n",
    "                     columns=['bright', 'happy', 'headstrong', 'love', 'n_down', 'n_strong', 'optimistic', 'relaxed', 'weird'])\n",
    "plt.figure(figsize=(10, 7))\n",
    "sns.heatmap(df_cm, annot=True)\n",
    "plt.ylabel('True label')\n",
    "plt.xlabel('Predicted label')\n",
    "plt.title('Confusion Matrix of Naive Approach using BLF+PS09 Features')\n",
    "plt.tight_layout()\n",
    "plt.show()\n",
    "\n",
    "print(\"Accuracy =\", accuracy_score(Y_test_both, knn_predict))"
   ]
  },
  {
   "cell_type": "markdown",
   "metadata": {},
   "source": [
    "### Checking the correct and incorrect classification (analysis of the results)"
   ]
  },
  {
   "cell_type": "code",
   "execution_count": 58,
   "metadata": {},
   "outputs": [
    {
     "data": {
      "text/html": [
       "<div>\n",
       "<style scoped>\n",
       "    .dataframe tbody tr th:only-of-type {\n",
       "        vertical-align: middle;\n",
       "    }\n",
       "\n",
       "    .dataframe tbody tr th {\n",
       "        vertical-align: top;\n",
       "    }\n",
       "\n",
       "    .dataframe thead th {\n",
       "        text-align: right;\n",
       "    }\n",
       "</style>\n",
       "<table border=\"1\" class=\"dataframe\">\n",
       "  <thead>\n",
       "    <tr style=\"text-align: right;\">\n",
       "      <th></th>\n",
       "      <th>True</th>\n",
       "      <th>Predicted</th>\n",
       "      <th>SONG_ID</th>\n",
       "    </tr>\n",
       "  </thead>\n",
       "  <tbody>\n",
       "    <tr>\n",
       "      <th>0</th>\n",
       "      <td>5</td>\n",
       "      <td>3</td>\n",
       "      <td>375706</td>\n",
       "    </tr>\n",
       "    <tr>\n",
       "      <th>1</th>\n",
       "      <td>7</td>\n",
       "      <td>5</td>\n",
       "      <td>37586</td>\n",
       "    </tr>\n",
       "    <tr>\n",
       "      <th>2</th>\n",
       "      <td>7</td>\n",
       "      <td>1</td>\n",
       "      <td>1001321</td>\n",
       "    </tr>\n",
       "    <tr>\n",
       "      <th>3</th>\n",
       "      <td>7</td>\n",
       "      <td>3</td>\n",
       "      <td>1004185</td>\n",
       "    </tr>\n",
       "    <tr>\n",
       "      <th>4</th>\n",
       "      <td>3</td>\n",
       "      <td>5</td>\n",
       "      <td>380203</td>\n",
       "    </tr>\n",
       "  </tbody>\n",
       "</table>\n",
       "</div>"
      ],
      "text/plain": [
       "   True  Predicted  SONG_ID\n",
       "0     5          3   375706\n",
       "1     7          5    37586\n",
       "2     7          1  1001321\n",
       "3     7          3  1004185\n",
       "4     3          5   380203"
      ]
     },
     "execution_count": 58,
     "metadata": {},
     "output_type": "execute_result"
    }
   ],
   "source": [
    "song_id = ps09_blf_test['SONG_ID']\n",
    "d = {'True': Y_test_both, 'Predicted':knn_predict}\n",
    "check = pd.DataFrame(d)\n",
    "check = check.join(song_id)\n",
    "check.head()"
   ]
  },
  {
   "cell_type": "markdown",
   "metadata": {},
   "source": [
    "# only ps09"
   ]
  },
  {
   "cell_type": "code",
   "execution_count": 59,
   "metadata": {},
   "outputs": [],
   "source": [
    "X_test_ps09 = ps09_blf_test.drop(['SONG_ID', 'SPECTRAL_M', 'DELTASPECTRAL_M', 'VARIANCEDELTASPECTRAL_M',\n",
    "                                  'LOGARITHMICFLUCTUATION_M', 'CORRELATION_M', 'SPECTRALCONTRAST_M',\n",
    "                                  'MOODS', 'MOODS_ENC'], axis=1).to_numpy()\n",
    "X_train_ps09 = ps09_blf_train.drop(['SONG_ID', 'SPECTRAL_M', 'DELTASPECTRAL_M', 'VARIANCEDELTASPECTRAL_M',\n",
    "                                    'LOGARITHMICFLUCTUATION_M', 'CORRELATION_M', 'SPECTRALCONTRAST_M',\n",
    "                                    'MOODS', 'MOODS_ENC'], axis=1).to_numpy()\n",
    "y_test_ps09 = ps09_blf_test['MOODS_ENC']\n",
    "y_train_ps09 = ps09_blf_train['MOODS_ENC']"
   ]
  },
  {
   "cell_type": "code",
   "execution_count": 60,
   "metadata": {},
   "outputs": [
    {
     "data": {
      "text/plain": [
       "KNeighborsClassifier()"
      ]
     },
     "execution_count": 60,
     "metadata": {},
     "output_type": "execute_result"
    }
   ],
   "source": [
    "knn_model = KNeighborsClassifier(n_neighbors=5)\n",
    "# Train the model using the training sets\n",
    "knn_model.fit(X_train_ps09, y_train_ps09)"
   ]
  },
  {
   "cell_type": "code",
   "execution_count": 61,
   "metadata": {},
   "outputs": [],
   "source": [
    "knn_predict = knn_model.predict(X_test_ps09)"
   ]
  },
  {
   "cell_type": "code",
   "execution_count": 62,
   "metadata": {},
   "outputs": [
    {
     "data": {
      "text/plain": [
       "0.16138328530259366"
      ]
     },
     "execution_count": 62,
     "metadata": {},
     "output_type": "execute_result"
    }
   ],
   "source": [
    "accuracy_score(y_test_ps09, knn_predict)"
   ]
  },
  {
   "cell_type": "code",
   "execution_count": 63,
   "metadata": {},
   "outputs": [],
   "source": [
    "cm = confusion_matrix(y_test_ps09, knn_predict)"
   ]
  },
  {
   "cell_type": "code",
   "execution_count": 64,
   "metadata": {},
   "outputs": [
    {
     "data": {
      "image/png": "[encoded data removed]",
      "text/plain": [
       "<Figure size 720x504 with 2 Axes>"
      ]
     },
     "metadata": {
      "needs_background": "light"
     },
     "output_type": "display_data"
    },
    {
     "name": "stdout",
     "output_type": "stream",
     "text": [
      "Accuracy = 0.16138328530259366\n"
     ]
    }
   ],
   "source": [
    "df_cm = pd.DataFrame(cm, index=['bright', 'happy', 'headstrong', 'love', 'n_down', 'n_strong', 'optimistic', 'relaxed', 'weird'],\n",
    "                     columns=['bright', 'happy', 'headstrong', 'love', 'n_down', 'n_strong', 'optimistic', 'relaxed', 'weird'])\n",
    "plt.figure(figsize=(10, 7))\n",
    "sns.heatmap(df_cm, annot=True)\n",
    "plt.ylabel('True label')\n",
    "plt.xlabel('Predicted label')\n",
    "plt.title('Confusion Matrix of Naive Approach using PS09 Features')\n",
    "plt.tight_layout()\n",
    "plt.show()\n",
    "\n",
    "print(\"Accuracy =\", accuracy_score(y_test_ps09, knn_predict))"
   ]
  }
 ],
 "metadata": {
  "kernelspec": {
   "display_name": "Python 3",
   "language": "python",
   "name": "python3"
  },
  "language_info": {
   "codemirror_mode": {
    "name": "ipython",
    "version": 3
   },
   "file_extension": ".py",
   "mimetype": "text/x-python",
   "name": "python",
   "nbconvert_exporter": "python",
   "pygments_lexer": "ipython3",
   "version": "3.11.3"
  }
 },
 "nbformat": 4,
 "nbformat_minor": 4
}
